{
 "cells": [
  {
   "cell_type": "code",
   "execution_count": 4,
   "metadata": {},
   "outputs": [],
   "source": [
    "import pandas as pd\n",
    "import numpy as np\n",
    "import matplotlib.pyplot as plt\n",
    " \n",
    "%matplotlib inline\n",
    " \n",
    "import warnings\n",
    "warnings.filterwarnings('ignore')"
   ]
  },
  {
   "cell_type": "code",
   "execution_count": 5,
   "metadata": {},
   "outputs": [],
   "source": [
    "train = pd.read_csv('Train.csv')\n",
    "test = pd.read_csv('Test.csv')"
   ]
  },
  {
   "cell_type": "code",
   "execution_count": 6,
   "metadata": {},
   "outputs": [
    {
     "data": {
      "text/html": [
       "<div>\n",
       "<style scoped>\n",
       "    .dataframe tbody tr th:only-of-type {\n",
       "        vertical-align: middle;\n",
       "    }\n",
       "\n",
       "    .dataframe tbody tr th {\n",
       "        vertical-align: top;\n",
       "    }\n",
       "\n",
       "    .dataframe thead th {\n",
       "        text-align: right;\n",
       "    }\n",
       "</style>\n",
       "<table border=\"1\" class=\"dataframe\">\n",
       "  <thead>\n",
       "    <tr style=\"text-align: right;\">\n",
       "      <th></th>\n",
       "      <th>Applicant_ID</th>\n",
       "      <th>form_field1</th>\n",
       "      <th>form_field2</th>\n",
       "      <th>form_field3</th>\n",
       "      <th>form_field4</th>\n",
       "      <th>form_field5</th>\n",
       "      <th>form_field6</th>\n",
       "      <th>form_field7</th>\n",
       "      <th>form_field8</th>\n",
       "      <th>form_field9</th>\n",
       "      <th>...</th>\n",
       "      <th>form_field42</th>\n",
       "      <th>form_field43</th>\n",
       "      <th>form_field44</th>\n",
       "      <th>form_field45</th>\n",
       "      <th>form_field46</th>\n",
       "      <th>form_field47</th>\n",
       "      <th>form_field48</th>\n",
       "      <th>form_field49</th>\n",
       "      <th>form_field50</th>\n",
       "      <th>default_status</th>\n",
       "    </tr>\n",
       "  </thead>\n",
       "  <tbody>\n",
       "    <tr>\n",
       "      <th>0</th>\n",
       "      <td>Apcnt_1000000</td>\n",
       "      <td>3436.0</td>\n",
       "      <td>0.28505</td>\n",
       "      <td>1.6560</td>\n",
       "      <td>0.0</td>\n",
       "      <td>0.000</td>\n",
       "      <td>0.0</td>\n",
       "      <td>10689720.0</td>\n",
       "      <td>252072.0</td>\n",
       "      <td>4272776.0</td>\n",
       "      <td>...</td>\n",
       "      <td>0.392854</td>\n",
       "      <td>2.02</td>\n",
       "      <td>0.711632</td>\n",
       "      <td>0.0</td>\n",
       "      <td>0.0</td>\n",
       "      <td>charge</td>\n",
       "      <td>NaN</td>\n",
       "      <td>1.129518</td>\n",
       "      <td>0.044335</td>\n",
       "      <td>no</td>\n",
       "    </tr>\n",
       "    <tr>\n",
       "      <th>1</th>\n",
       "      <td>Apcnt_1000004</td>\n",
       "      <td>3456.0</td>\n",
       "      <td>0.67400</td>\n",
       "      <td>0.2342</td>\n",
       "      <td>0.0</td>\n",
       "      <td>0.000</td>\n",
       "      <td>0.0</td>\n",
       "      <td>898979.0</td>\n",
       "      <td>497531.0</td>\n",
       "      <td>9073814.0</td>\n",
       "      <td>...</td>\n",
       "      <td>0.314281</td>\n",
       "      <td>8.08</td>\n",
       "      <td>0.183584</td>\n",
       "      <td>NaN</td>\n",
       "      <td>0.0</td>\n",
       "      <td>charge</td>\n",
       "      <td>349.805730</td>\n",
       "      <td>1.620483</td>\n",
       "      <td>0.322436</td>\n",
       "      <td>no</td>\n",
       "    </tr>\n",
       "    <tr>\n",
       "      <th>2</th>\n",
       "      <td>Apcnt_1000008</td>\n",
       "      <td>3276.0</td>\n",
       "      <td>0.53845</td>\n",
       "      <td>3.1510</td>\n",
       "      <td>0.0</td>\n",
       "      <td>6.282</td>\n",
       "      <td>NaN</td>\n",
       "      <td>956940.0</td>\n",
       "      <td>NaN</td>\n",
       "      <td>192944.0</td>\n",
       "      <td>...</td>\n",
       "      <td>0.162965</td>\n",
       "      <td>18.18</td>\n",
       "      <td>0.791136</td>\n",
       "      <td>0.0</td>\n",
       "      <td>0.0</td>\n",
       "      <td>charge</td>\n",
       "      <td>NaN</td>\n",
       "      <td>1.513370</td>\n",
       "      <td>0.011640</td>\n",
       "      <td>yes</td>\n",
       "    </tr>\n",
       "    <tr>\n",
       "      <th>3</th>\n",
       "      <td>Apcnt_1000012</td>\n",
       "      <td>3372.0</td>\n",
       "      <td>0.17005</td>\n",
       "      <td>0.5050</td>\n",
       "      <td>0.0</td>\n",
       "      <td>0.000</td>\n",
       "      <td>192166.0</td>\n",
       "      <td>3044703.0</td>\n",
       "      <td>385499.0</td>\n",
       "      <td>3986472.0</td>\n",
       "      <td>...</td>\n",
       "      <td>0.488884</td>\n",
       "      <td>2.02</td>\n",
       "      <td>0.685168</td>\n",
       "      <td>NaN</td>\n",
       "      <td>0.0</td>\n",
       "      <td>charge</td>\n",
       "      <td>89.940100</td>\n",
       "      <td>0.664452</td>\n",
       "      <td>0.082729</td>\n",
       "      <td>no</td>\n",
       "    </tr>\n",
       "    <tr>\n",
       "      <th>4</th>\n",
       "      <td>Apcnt_1000016</td>\n",
       "      <td>3370.0</td>\n",
       "      <td>0.77270</td>\n",
       "      <td>1.1010</td>\n",
       "      <td>0.0</td>\n",
       "      <td>0.000</td>\n",
       "      <td>1556.0</td>\n",
       "      <td>214728.0</td>\n",
       "      <td>214728.0</td>\n",
       "      <td>1284089.0</td>\n",
       "      <td>...</td>\n",
       "      <td>0.275000</td>\n",
       "      <td>12.12</td>\n",
       "      <td>0.438168</td>\n",
       "      <td>0.0</td>\n",
       "      <td>0.0</td>\n",
       "      <td>charge</td>\n",
       "      <td>97.887502</td>\n",
       "      <td>1.427891</td>\n",
       "      <td>0.045630</td>\n",
       "      <td>no</td>\n",
       "    </tr>\n",
       "  </tbody>\n",
       "</table>\n",
       "<p>5 rows × 52 columns</p>\n",
       "</div>"
      ],
      "text/plain": [
       "    Applicant_ID  form_field1  form_field2  form_field3  form_field4  \\\n",
       "0  Apcnt_1000000       3436.0      0.28505       1.6560          0.0   \n",
       "1  Apcnt_1000004       3456.0      0.67400       0.2342          0.0   \n",
       "2  Apcnt_1000008       3276.0      0.53845       3.1510          0.0   \n",
       "3  Apcnt_1000012       3372.0      0.17005       0.5050          0.0   \n",
       "4  Apcnt_1000016       3370.0      0.77270       1.1010          0.0   \n",
       "\n",
       "   form_field5  form_field6  form_field7  form_field8  form_field9  ...  \\\n",
       "0        0.000          0.0   10689720.0     252072.0    4272776.0  ...   \n",
       "1        0.000          0.0     898979.0     497531.0    9073814.0  ...   \n",
       "2        6.282          NaN     956940.0          NaN     192944.0  ...   \n",
       "3        0.000     192166.0    3044703.0     385499.0    3986472.0  ...   \n",
       "4        0.000       1556.0     214728.0     214728.0    1284089.0  ...   \n",
       "\n",
       "   form_field42  form_field43  form_field44  form_field45  form_field46  \\\n",
       "0      0.392854          2.02      0.711632           0.0           0.0   \n",
       "1      0.314281          8.08      0.183584           NaN           0.0   \n",
       "2      0.162965         18.18      0.791136           0.0           0.0   \n",
       "3      0.488884          2.02      0.685168           NaN           0.0   \n",
       "4      0.275000         12.12      0.438168           0.0           0.0   \n",
       "\n",
       "   form_field47  form_field48  form_field49  form_field50  default_status  \n",
       "0        charge           NaN      1.129518      0.044335              no  \n",
       "1        charge    349.805730      1.620483      0.322436              no  \n",
       "2        charge           NaN      1.513370      0.011640             yes  \n",
       "3        charge     89.940100      0.664452      0.082729              no  \n",
       "4        charge     97.887502      1.427891      0.045630              no  \n",
       "\n",
       "[5 rows x 52 columns]"
      ]
     },
     "execution_count": 6,
     "metadata": {},
     "output_type": "execute_result"
    }
   ],
   "source": [
    "train.head()"
   ]
  },
  {
   "cell_type": "code",
   "execution_count": 7,
   "metadata": {},
   "outputs": [
    {
     "data": {
      "text/plain": [
       "array([ 0.    ,  8.3718,  4.9068, ...,  2.9196, 12.2796, 23.355 ])"
      ]
     },
     "execution_count": 7,
     "metadata": {},
     "output_type": "execute_result"
    }
   ],
   "source": [
    "train['form_field4'].unique()"
   ]
  },
  {
   "cell_type": "code",
   "execution_count": 8,
   "metadata": {},
   "outputs": [
    {
     "data": {
      "text/plain": [
       "(56000, 52)"
      ]
     },
     "execution_count": 8,
     "metadata": {},
     "output_type": "execute_result"
    }
   ],
   "source": [
    "train.shape"
   ]
  },
  {
   "cell_type": "code",
   "execution_count": 9,
   "metadata": {},
   "outputs": [
    {
     "data": {
      "text/html": [
       "<div>\n",
       "<style scoped>\n",
       "    .dataframe tbody tr th:only-of-type {\n",
       "        vertical-align: middle;\n",
       "    }\n",
       "\n",
       "    .dataframe tbody tr th {\n",
       "        vertical-align: top;\n",
       "    }\n",
       "\n",
       "    .dataframe thead th {\n",
       "        text-align: right;\n",
       "    }\n",
       "</style>\n",
       "<table border=\"1\" class=\"dataframe\">\n",
       "  <thead>\n",
       "    <tr style=\"text-align: right;\">\n",
       "      <th></th>\n",
       "      <th>form_field19</th>\n",
       "    </tr>\n",
       "  </thead>\n",
       "  <tbody>\n",
       "    <tr>\n",
       "      <th>0</th>\n",
       "      <td>3.0</td>\n",
       "    </tr>\n",
       "    <tr>\n",
       "      <th>1</th>\n",
       "      <td>2.0</td>\n",
       "    </tr>\n",
       "    <tr>\n",
       "      <th>2</th>\n",
       "      <td>0.0</td>\n",
       "    </tr>\n",
       "    <tr>\n",
       "      <th>3</th>\n",
       "      <td>1.0</td>\n",
       "    </tr>\n",
       "    <tr>\n",
       "      <th>4</th>\n",
       "      <td>3.0</td>\n",
       "    </tr>\n",
       "    <tr>\n",
       "      <th>...</th>\n",
       "      <td>...</td>\n",
       "    </tr>\n",
       "    <tr>\n",
       "      <th>55995</th>\n",
       "      <td>0.0</td>\n",
       "    </tr>\n",
       "    <tr>\n",
       "      <th>55996</th>\n",
       "      <td>0.0</td>\n",
       "    </tr>\n",
       "    <tr>\n",
       "      <th>55997</th>\n",
       "      <td>2.0</td>\n",
       "    </tr>\n",
       "    <tr>\n",
       "      <th>55998</th>\n",
       "      <td>0.0</td>\n",
       "    </tr>\n",
       "    <tr>\n",
       "      <th>55999</th>\n",
       "      <td>3.0</td>\n",
       "    </tr>\n",
       "  </tbody>\n",
       "</table>\n",
       "<p>56000 rows × 1 columns</p>\n",
       "</div>"
      ],
      "text/plain": [
       "       form_field19\n",
       "0               3.0\n",
       "1               2.0\n",
       "2               0.0\n",
       "3               1.0\n",
       "4               3.0\n",
       "...             ...\n",
       "55995           0.0\n",
       "55996           0.0\n",
       "55997           2.0\n",
       "55998           0.0\n",
       "55999           3.0\n",
       "\n",
       "[56000 rows x 1 columns]"
      ]
     },
     "execution_count": 9,
     "metadata": {},
     "output_type": "execute_result"
    }
   ],
   "source": [
    "train[['form_field19']]"
   ]
  },
  {
   "cell_type": "code",
   "execution_count": 10,
   "metadata": {},
   "outputs": [
    {
     "data": {
      "text/html": [
       "<div>\n",
       "<style scoped>\n",
       "    .dataframe tbody tr th:only-of-type {\n",
       "        vertical-align: middle;\n",
       "    }\n",
       "\n",
       "    .dataframe tbody tr th {\n",
       "        vertical-align: top;\n",
       "    }\n",
       "\n",
       "    .dataframe thead th {\n",
       "        text-align: right;\n",
       "    }\n",
       "</style>\n",
       "<table border=\"1\" class=\"dataframe\">\n",
       "  <thead>\n",
       "    <tr style=\"text-align: right;\">\n",
       "      <th></th>\n",
       "      <th>form_field20</th>\n",
       "    </tr>\n",
       "  </thead>\n",
       "  <tbody>\n",
       "    <tr>\n",
       "      <th>0</th>\n",
       "      <td>3.0</td>\n",
       "    </tr>\n",
       "    <tr>\n",
       "      <th>1</th>\n",
       "      <td>2.0</td>\n",
       "    </tr>\n",
       "    <tr>\n",
       "      <th>2</th>\n",
       "      <td>0.0</td>\n",
       "    </tr>\n",
       "    <tr>\n",
       "      <th>3</th>\n",
       "      <td>1.0</td>\n",
       "    </tr>\n",
       "    <tr>\n",
       "      <th>4</th>\n",
       "      <td>3.0</td>\n",
       "    </tr>\n",
       "    <tr>\n",
       "      <th>...</th>\n",
       "      <td>...</td>\n",
       "    </tr>\n",
       "    <tr>\n",
       "      <th>55995</th>\n",
       "      <td>0.0</td>\n",
       "    </tr>\n",
       "    <tr>\n",
       "      <th>55996</th>\n",
       "      <td>1.0</td>\n",
       "    </tr>\n",
       "    <tr>\n",
       "      <th>55997</th>\n",
       "      <td>2.0</td>\n",
       "    </tr>\n",
       "    <tr>\n",
       "      <th>55998</th>\n",
       "      <td>0.0</td>\n",
       "    </tr>\n",
       "    <tr>\n",
       "      <th>55999</th>\n",
       "      <td>3.0</td>\n",
       "    </tr>\n",
       "  </tbody>\n",
       "</table>\n",
       "<p>56000 rows × 1 columns</p>\n",
       "</div>"
      ],
      "text/plain": [
       "       form_field20\n",
       "0               3.0\n",
       "1               2.0\n",
       "2               0.0\n",
       "3               1.0\n",
       "4               3.0\n",
       "...             ...\n",
       "55995           0.0\n",
       "55996           1.0\n",
       "55997           2.0\n",
       "55998           0.0\n",
       "55999           3.0\n",
       "\n",
       "[56000 rows x 1 columns]"
      ]
     },
     "execution_count": 10,
     "metadata": {},
     "output_type": "execute_result"
    }
   ],
   "source": [
    "train[['form_field20']]"
   ]
  },
  {
   "cell_type": "code",
   "execution_count": 11,
   "metadata": {},
   "outputs": [
    {
     "data": {
      "text/plain": [
       "array([ 3.,  2.,  0.,  1.,  6.,  7., 12.,  4.,  5.,  9.,  8., 15., 11.,\n",
       "       20., 10., 14., 13., 17., 16., 22., 18., 28., 19., 24., 21., 25.,\n",
       "       nan])"
      ]
     },
     "execution_count": 11,
     "metadata": {},
     "output_type": "execute_result"
    }
   ],
   "source": [
    "train['form_field19'].unique()"
   ]
  },
  {
   "cell_type": "code",
   "execution_count": 12,
   "metadata": {},
   "outputs": [
    {
     "data": {
      "text/plain": [
       "array([ 3.,  2.,  0.,  1.,  6.,  7., 12.,  4.,  5.,  8., nan,  9., 15.,\n",
       "       11., 20., 10., 14., 13., 16., 17., 22., 18., 29., 19., 24., 21.,\n",
       "       25., 28.])"
      ]
     },
     "execution_count": 12,
     "metadata": {},
     "output_type": "execute_result"
    }
   ],
   "source": [
    "train['form_field20'].unique()"
   ]
  },
  {
   "cell_type": "code",
   "execution_count": 13,
   "metadata": {},
   "outputs": [
    {
     "data": {
      "text/plain": [
       "Index(['Applicant_ID', 'form_field1', 'form_field2', 'form_field3',\n",
       "       'form_field4', 'form_field5', 'form_field6', 'form_field7',\n",
       "       'form_field8', 'form_field9', 'form_field10', 'form_field11',\n",
       "       'form_field12', 'form_field13', 'form_field14', 'form_field15',\n",
       "       'form_field16', 'form_field17', 'form_field18', 'form_field19',\n",
       "       'form_field20', 'form_field21', 'form_field22', 'form_field23',\n",
       "       'form_field24', 'form_field25', 'form_field26', 'form_field27',\n",
       "       'form_field28', 'form_field29', 'form_field30', 'form_field31',\n",
       "       'form_field32', 'form_field33', 'form_field34', 'form_field35',\n",
       "       'form_field36', 'form_field37', 'form_field38', 'form_field39',\n",
       "       'form_field40', 'form_field41', 'form_field42', 'form_field43',\n",
       "       'form_field44', 'form_field45', 'form_field46', 'form_field47',\n",
       "       'form_field48', 'form_field49', 'form_field50', 'default_status'],\n",
       "      dtype='object')"
      ]
     },
     "execution_count": 13,
     "metadata": {},
     "output_type": "execute_result"
    }
   ],
   "source": [
    "train.columns"
   ]
  },
  {
   "cell_type": "code",
   "execution_count": 14,
   "metadata": {},
   "outputs": [
    {
     "data": {
      "text/html": [
       "<div>\n",
       "<style scoped>\n",
       "    .dataframe tbody tr th:only-of-type {\n",
       "        vertical-align: middle;\n",
       "    }\n",
       "\n",
       "    .dataframe tbody tr th {\n",
       "        vertical-align: top;\n",
       "    }\n",
       "\n",
       "    .dataframe thead th {\n",
       "        text-align: right;\n",
       "    }\n",
       "</style>\n",
       "<table border=\"1\" class=\"dataframe\">\n",
       "  <thead>\n",
       "    <tr style=\"text-align: right;\">\n",
       "      <th></th>\n",
       "      <th>Applicant_ID</th>\n",
       "      <th>form_field1</th>\n",
       "      <th>form_field2</th>\n",
       "      <th>form_field3</th>\n",
       "      <th>form_field4</th>\n",
       "      <th>form_field5</th>\n",
       "      <th>form_field6</th>\n",
       "      <th>form_field7</th>\n",
       "      <th>form_field8</th>\n",
       "      <th>form_field9</th>\n",
       "      <th>...</th>\n",
       "      <th>form_field42</th>\n",
       "      <th>form_field43</th>\n",
       "      <th>form_field44</th>\n",
       "      <th>form_field45</th>\n",
       "      <th>form_field46</th>\n",
       "      <th>form_field47</th>\n",
       "      <th>form_field48</th>\n",
       "      <th>form_field49</th>\n",
       "      <th>form_field50</th>\n",
       "      <th>default_status</th>\n",
       "    </tr>\n",
       "  </thead>\n",
       "  <tbody>\n",
       "    <tr>\n",
       "      <th>0</th>\n",
       "      <td>Apcnt_1000000</td>\n",
       "      <td>3436.0</td>\n",
       "      <td>0.28505</td>\n",
       "      <td>1.6560</td>\n",
       "      <td>0.0</td>\n",
       "      <td>0.000</td>\n",
       "      <td>0.0</td>\n",
       "      <td>10689720.0</td>\n",
       "      <td>252072.0</td>\n",
       "      <td>4272776.0</td>\n",
       "      <td>...</td>\n",
       "      <td>0.392854</td>\n",
       "      <td>2.02</td>\n",
       "      <td>0.711632</td>\n",
       "      <td>0.0</td>\n",
       "      <td>0.0</td>\n",
       "      <td>charge</td>\n",
       "      <td>NaN</td>\n",
       "      <td>1.129518</td>\n",
       "      <td>0.044335</td>\n",
       "      <td>no</td>\n",
       "    </tr>\n",
       "    <tr>\n",
       "      <th>1</th>\n",
       "      <td>Apcnt_1000004</td>\n",
       "      <td>3456.0</td>\n",
       "      <td>0.67400</td>\n",
       "      <td>0.2342</td>\n",
       "      <td>0.0</td>\n",
       "      <td>0.000</td>\n",
       "      <td>0.0</td>\n",
       "      <td>898979.0</td>\n",
       "      <td>497531.0</td>\n",
       "      <td>9073814.0</td>\n",
       "      <td>...</td>\n",
       "      <td>0.314281</td>\n",
       "      <td>8.08</td>\n",
       "      <td>0.183584</td>\n",
       "      <td>NaN</td>\n",
       "      <td>0.0</td>\n",
       "      <td>charge</td>\n",
       "      <td>349.805730</td>\n",
       "      <td>1.620483</td>\n",
       "      <td>0.322436</td>\n",
       "      <td>no</td>\n",
       "    </tr>\n",
       "    <tr>\n",
       "      <th>2</th>\n",
       "      <td>Apcnt_1000008</td>\n",
       "      <td>3276.0</td>\n",
       "      <td>0.53845</td>\n",
       "      <td>3.1510</td>\n",
       "      <td>0.0</td>\n",
       "      <td>6.282</td>\n",
       "      <td>NaN</td>\n",
       "      <td>956940.0</td>\n",
       "      <td>NaN</td>\n",
       "      <td>192944.0</td>\n",
       "      <td>...</td>\n",
       "      <td>0.162965</td>\n",
       "      <td>18.18</td>\n",
       "      <td>0.791136</td>\n",
       "      <td>0.0</td>\n",
       "      <td>0.0</td>\n",
       "      <td>charge</td>\n",
       "      <td>NaN</td>\n",
       "      <td>1.513370</td>\n",
       "      <td>0.011640</td>\n",
       "      <td>yes</td>\n",
       "    </tr>\n",
       "    <tr>\n",
       "      <th>3</th>\n",
       "      <td>Apcnt_1000012</td>\n",
       "      <td>3372.0</td>\n",
       "      <td>0.17005</td>\n",
       "      <td>0.5050</td>\n",
       "      <td>0.0</td>\n",
       "      <td>0.000</td>\n",
       "      <td>192166.0</td>\n",
       "      <td>3044703.0</td>\n",
       "      <td>385499.0</td>\n",
       "      <td>3986472.0</td>\n",
       "      <td>...</td>\n",
       "      <td>0.488884</td>\n",
       "      <td>2.02</td>\n",
       "      <td>0.685168</td>\n",
       "      <td>NaN</td>\n",
       "      <td>0.0</td>\n",
       "      <td>charge</td>\n",
       "      <td>89.940100</td>\n",
       "      <td>0.664452</td>\n",
       "      <td>0.082729</td>\n",
       "      <td>no</td>\n",
       "    </tr>\n",
       "    <tr>\n",
       "      <th>4</th>\n",
       "      <td>Apcnt_1000016</td>\n",
       "      <td>3370.0</td>\n",
       "      <td>0.77270</td>\n",
       "      <td>1.1010</td>\n",
       "      <td>0.0</td>\n",
       "      <td>0.000</td>\n",
       "      <td>1556.0</td>\n",
       "      <td>214728.0</td>\n",
       "      <td>214728.0</td>\n",
       "      <td>1284089.0</td>\n",
       "      <td>...</td>\n",
       "      <td>0.275000</td>\n",
       "      <td>12.12</td>\n",
       "      <td>0.438168</td>\n",
       "      <td>0.0</td>\n",
       "      <td>0.0</td>\n",
       "      <td>charge</td>\n",
       "      <td>97.887502</td>\n",
       "      <td>1.427891</td>\n",
       "      <td>0.045630</td>\n",
       "      <td>no</td>\n",
       "    </tr>\n",
       "  </tbody>\n",
       "</table>\n",
       "<p>5 rows × 52 columns</p>\n",
       "</div>"
      ],
      "text/plain": [
       "    Applicant_ID  form_field1  form_field2  form_field3  form_field4  \\\n",
       "0  Apcnt_1000000       3436.0      0.28505       1.6560          0.0   \n",
       "1  Apcnt_1000004       3456.0      0.67400       0.2342          0.0   \n",
       "2  Apcnt_1000008       3276.0      0.53845       3.1510          0.0   \n",
       "3  Apcnt_1000012       3372.0      0.17005       0.5050          0.0   \n",
       "4  Apcnt_1000016       3370.0      0.77270       1.1010          0.0   \n",
       "\n",
       "   form_field5  form_field6  form_field7  form_field8  form_field9  ...  \\\n",
       "0        0.000          0.0   10689720.0     252072.0    4272776.0  ...   \n",
       "1        0.000          0.0     898979.0     497531.0    9073814.0  ...   \n",
       "2        6.282          NaN     956940.0          NaN     192944.0  ...   \n",
       "3        0.000     192166.0    3044703.0     385499.0    3986472.0  ...   \n",
       "4        0.000       1556.0     214728.0     214728.0    1284089.0  ...   \n",
       "\n",
       "   form_field42  form_field43  form_field44  form_field45  form_field46  \\\n",
       "0      0.392854          2.02      0.711632           0.0           0.0   \n",
       "1      0.314281          8.08      0.183584           NaN           0.0   \n",
       "2      0.162965         18.18      0.791136           0.0           0.0   \n",
       "3      0.488884          2.02      0.685168           NaN           0.0   \n",
       "4      0.275000         12.12      0.438168           0.0           0.0   \n",
       "\n",
       "   form_field47  form_field48  form_field49  form_field50  default_status  \n",
       "0        charge           NaN      1.129518      0.044335              no  \n",
       "1        charge    349.805730      1.620483      0.322436              no  \n",
       "2        charge           NaN      1.513370      0.011640             yes  \n",
       "3        charge     89.940100      0.664452      0.082729              no  \n",
       "4        charge     97.887502      1.427891      0.045630              no  \n",
       "\n",
       "[5 rows x 52 columns]"
      ]
     },
     "execution_count": 14,
     "metadata": {},
     "output_type": "execute_result"
    }
   ],
   "source": [
    "train.head()"
   ]
  },
  {
   "cell_type": "code",
   "execution_count": 15,
   "metadata": {},
   "outputs": [
    {
     "data": {
      "text/plain": [
       "Index(['Applicant_ID', 'form_field1', 'form_field2', 'form_field3',\n",
       "       'form_field4', 'form_field5', 'form_field6', 'form_field7',\n",
       "       'form_field8', 'form_field9', 'form_field10', 'form_field11',\n",
       "       'form_field12', 'form_field13', 'form_field14', 'form_field15',\n",
       "       'form_field16', 'form_field17', 'form_field18', 'form_field19',\n",
       "       'form_field20', 'form_field21', 'form_field22', 'form_field23',\n",
       "       'form_field24', 'form_field25', 'form_field26', 'form_field27',\n",
       "       'form_field28', 'form_field29', 'form_field30', 'form_field31',\n",
       "       'form_field32', 'form_field33', 'form_field34', 'form_field35',\n",
       "       'form_field36', 'form_field37', 'form_field38', 'form_field39',\n",
       "       'form_field40', 'form_field41', 'form_field42', 'form_field43',\n",
       "       'form_field44', 'form_field45', 'form_field46', 'form_field47',\n",
       "       'form_field48', 'form_field49', 'form_field50', 'default_status'],\n",
       "      dtype='object')"
      ]
     },
     "execution_count": 15,
     "metadata": {},
     "output_type": "execute_result"
    }
   ],
   "source": [
    "train.columns"
   ]
  },
  {
   "cell_type": "code",
   "execution_count": 16,
   "metadata": {},
   "outputs": [
    {
     "data": {
      "text/plain": [
       "Index(['Applicant_ID', 'form_field1', 'form_field2', 'form_field3',\n",
       "       'form_field4', 'form_field5', 'form_field6', 'form_field7',\n",
       "       'form_field8', 'form_field9', 'form_field10', 'form_field11',\n",
       "       'form_field12', 'form_field13', 'form_field14', 'form_field15',\n",
       "       'form_field16', 'form_field17', 'form_field18', 'form_field19',\n",
       "       'form_field20', 'form_field21', 'form_field22', 'form_field23',\n",
       "       'form_field24', 'form_field25', 'form_field26', 'form_field27',\n",
       "       'form_field28', 'form_field29', 'form_field30', 'form_field31',\n",
       "       'form_field32', 'form_field33', 'form_field34', 'form_field35',\n",
       "       'form_field36', 'form_field37', 'form_field38', 'form_field39',\n",
       "       'form_field40', 'form_field41', 'form_field42', 'form_field43',\n",
       "       'form_field44', 'form_field45', 'form_field46', 'form_field47',\n",
       "       'form_field48', 'form_field49', 'form_field50'],\n",
       "      dtype='object')"
      ]
     },
     "execution_count": 16,
     "metadata": {},
     "output_type": "execute_result"
    }
   ],
   "source": [
    "test.columns"
   ]
  },
  {
   "cell_type": "code",
   "execution_count": 17,
   "metadata": {},
   "outputs": [
    {
     "data": {
      "text/plain": [
       "array([ 1., nan,  0.,  6.,  8.,  2.,  3.,  7.,  5.,  4.,  9., 11., 13.,\n",
       "       10., 21., 16.])"
      ]
     },
     "execution_count": 17,
     "metadata": {},
     "output_type": "execute_result"
    }
   ],
   "source": [
    "train['form_field17'].unique()"
   ]
  },
  {
   "cell_type": "code",
   "execution_count": 18,
   "metadata": {},
   "outputs": [
    {
     "data": {
      "text/plain": [
       "array([ 1., nan,  0.,  6.,  8.,  3.,  2.,  7.,  5.,  4.,  9., 11., 13.,\n",
       "       10., 12., 21., 16.])"
      ]
     },
     "execution_count": 18,
     "metadata": {},
     "output_type": "execute_result"
    }
   ],
   "source": [
    "train['form_field18'].unique()"
   ]
  },
  {
   "cell_type": "code",
   "execution_count": 19,
   "metadata": {},
   "outputs": [
    {
     "data": {
      "text/plain": [
       "Index(['Applicant_ID', 'form_field1', 'form_field2', 'form_field3',\n",
       "       'form_field4', 'form_field5', 'form_field6', 'form_field7',\n",
       "       'form_field8', 'form_field9', 'form_field10', 'form_field11',\n",
       "       'form_field12', 'form_field13', 'form_field14', 'form_field15',\n",
       "       'form_field16', 'form_field17', 'form_field18', 'form_field19',\n",
       "       'form_field20', 'form_field21', 'form_field22', 'form_field23',\n",
       "       'form_field24', 'form_field25', 'form_field26', 'form_field27',\n",
       "       'form_field28', 'form_field29', 'form_field30', 'form_field31',\n",
       "       'form_field32', 'form_field33', 'form_field34', 'form_field35',\n",
       "       'form_field36', 'form_field37', 'form_field38', 'form_field39',\n",
       "       'form_field40', 'form_field41', 'form_field42', 'form_field43',\n",
       "       'form_field44', 'form_field45', 'form_field46', 'form_field47',\n",
       "       'form_field48', 'form_field49', 'form_field50', 'default_status'],\n",
       "      dtype='object')"
      ]
     },
     "execution_count": 19,
     "metadata": {},
     "output_type": "execute_result"
    }
   ],
   "source": [
    "train.columns"
   ]
  },
  {
   "cell_type": "code",
   "execution_count": 20,
   "metadata": {},
   "outputs": [
    {
     "data": {
      "text/plain": [
       "Applicant_ID          0\n",
       "form_field1        2529\n",
       "form_field2        3844\n",
       "form_field3         355\n",
       "form_field4         355\n",
       "form_field5         355\n",
       "form_field6       13360\n",
       "form_field7        5163\n",
       "form_field8       13360\n",
       "form_field9        8008\n",
       "form_field10        355\n",
       "form_field11      31421\n",
       "form_field12       9895\n",
       "form_field13       5889\n",
       "form_field14          0\n",
       "form_field15      22475\n",
       "form_field16      13036\n",
       "form_field17      11151\n",
       "form_field18      10402\n",
       "form_field19          4\n",
       "form_field20        355\n",
       "form_field21      15854\n",
       "form_field22      20400\n",
       "form_field23      28123\n",
       "form_field24      13297\n",
       "form_field25       5450\n",
       "form_field26       7438\n",
       "form_field27       9299\n",
       "form_field28        355\n",
       "form_field29        355\n",
       "form_field30      25509\n",
       "form_field31      39408\n",
       "form_field32       5450\n",
       "form_field33       1256\n",
       "form_field34        355\n",
       "form_field35      23148\n",
       "form_field36       1995\n",
       "form_field37       5450\n",
       "form_field38        355\n",
       "form_field39       4211\n",
       "form_field40      43729\n",
       "form_field41      38229\n",
       "form_field42       1323\n",
       "form_field43        568\n",
       "form_field44       5383\n",
       "form_field45      31317\n",
       "form_field46      15904\n",
       "form_field47          0\n",
       "form_field48      20889\n",
       "form_field49        355\n",
       "form_field50      11056\n",
       "default_status        0\n",
       "dtype: int64"
      ]
     },
     "execution_count": 20,
     "metadata": {},
     "output_type": "execute_result"
    }
   ],
   "source": [
    "train.isnull().sum()"
   ]
  },
  {
   "cell_type": "code",
   "execution_count": 21,
   "metadata": {},
   "outputs": [
    {
     "data": {
      "text/plain": [
       "Applicant_ID        0\n",
       "form_field1      1110\n",
       "form_field2      1709\n",
       "form_field3       146\n",
       "form_field4       146\n",
       "form_field5       146\n",
       "form_field6      5604\n",
       "form_field7      2231\n",
       "form_field8      5604\n",
       "form_field9      3400\n",
       "form_field10      147\n",
       "form_field11    13398\n",
       "form_field12     4183\n",
       "form_field13     2463\n",
       "form_field14        0\n",
       "form_field15     9592\n",
       "form_field16     5474\n",
       "form_field17     4695\n",
       "form_field18     4369\n",
       "form_field19        0\n",
       "form_field20      147\n",
       "form_field21     6707\n",
       "form_field22     8724\n",
       "form_field23    12125\n",
       "form_field24     5605\n",
       "form_field25     2256\n",
       "form_field26     3172\n",
       "form_field27     3910\n",
       "form_field28      147\n",
       "form_field29      147\n",
       "form_field30    10908\n",
       "form_field31    16810\n",
       "form_field32     2256\n",
       "form_field33      495\n",
       "form_field34      147\n",
       "form_field35     9866\n",
       "form_field36      903\n",
       "form_field37     2256\n",
       "form_field38      147\n",
       "form_field39     1829\n",
       "form_field40    18828\n",
       "form_field41    16349\n",
       "form_field42      578\n",
       "form_field43      250\n",
       "form_field44     2362\n",
       "form_field45    13538\n",
       "form_field46     6885\n",
       "form_field47        0\n",
       "form_field48     8922\n",
       "form_field49      146\n",
       "form_field50     4797\n",
       "dtype: int64"
      ]
     },
     "execution_count": 21,
     "metadata": {},
     "output_type": "execute_result"
    }
   ],
   "source": [
    "test.isnull().sum()"
   ]
  },
  {
   "cell_type": "code",
   "execution_count": 22,
   "metadata": {},
   "outputs": [
    {
     "data": {
      "text/plain": [
       "(56000, 52)"
      ]
     },
     "execution_count": 22,
     "metadata": {},
     "output_type": "execute_result"
    }
   ],
   "source": [
    "train.shape"
   ]
  },
  {
   "cell_type": "code",
   "execution_count": 23,
   "metadata": {},
   "outputs": [
    {
     "data": {
      "text/plain": [
       "(24000, 51)"
      ]
     },
     "execution_count": 23,
     "metadata": {},
     "output_type": "execute_result"
    }
   ],
   "source": [
    "test.shape"
   ]
  },
  {
   "cell_type": "code",
   "execution_count": 24,
   "metadata": {},
   "outputs": [],
   "source": [
    "#train.drop(['form_field11', 'form_field31', 'form_field40', 'form_field41', 'form_field45'], axis = 1, inplace = True)\n",
    "#test.drop(['form_field11', 'form_field31', 'form_field40', 'form_field41', 'form_field45'], axis = 1, inplace = True)"
   ]
  },
  {
   "cell_type": "code",
   "execution_count": 25,
   "metadata": {},
   "outputs": [
    {
     "data": {
      "text/plain": [
       "((56000, 52), (24000, 51))"
      ]
     },
     "execution_count": 25,
     "metadata": {},
     "output_type": "execute_result"
    }
   ],
   "source": [
    "train.shape, test.shape"
   ]
  },
  {
   "cell_type": "code",
   "execution_count": 26,
   "metadata": {},
   "outputs": [],
   "source": [
    "from sklearn.metrics import roc_auc_score\n",
    "from catboost import CatBoostClassifier\n",
    "import xgboost as xgb\n",
    "from xgboost.sklearn import XGBClassifier"
   ]
  },
  {
   "cell_type": "code",
   "execution_count": 27,
   "metadata": {},
   "outputs": [],
   "source": [
    "dict_ = {'charge': 1,\n",
    "         'lending': 0}\n",
    "\n",
    "target_map = {\n",
    "    'yes': 1,\n",
    "    'no': 0}\n",
    "\n",
    "train.default_status.replace(target_map, inplace = True)\n",
    "\n",
    "train['form_field47'].replace(dict_, inplace = True)\n",
    "test['form_field47'].replace(dict_, inplace = True)"
   ]
  },
  {
   "cell_type": "code",
   "execution_count": 28,
   "metadata": {},
   "outputs": [
    {
     "data": {
      "text/plain": [
       "52"
      ]
     },
     "execution_count": 28,
     "metadata": {},
     "output_type": "execute_result"
    }
   ],
   "source": [
    "len(train.columns)"
   ]
  },
  {
   "cell_type": "code",
   "execution_count": 29,
   "metadata": {},
   "outputs": [],
   "source": [
    "features = train.select_dtypes(exclude = object).columns.drop(['default_status'])"
   ]
  },
  {
   "cell_type": "code",
   "execution_count": 30,
   "metadata": {},
   "outputs": [],
   "source": [
    "for col in features:\n",
    "    train[col].fillna(-999, inplace = True)\n",
    "    test[col].fillna(-999, inplace = True)"
   ]
  },
  {
   "cell_type": "code",
   "execution_count": 31,
   "metadata": {},
   "outputs": [
    {
     "data": {
      "text/plain": [
       "52"
      ]
     },
     "execution_count": 31,
     "metadata": {},
     "output_type": "execute_result"
    }
   ],
   "source": [
    "len(train.columns)"
   ]
  },
  {
   "cell_type": "code",
   "execution_count": 32,
   "metadata": {},
   "outputs": [],
   "source": [
    "X = train[features]\n",
    "y = train['default_status']"
   ]
  },
  {
   "cell_type": "code",
   "execution_count": 33,
   "metadata": {},
   "outputs": [],
   "source": [
    "from sklearn.model_selection import StratifiedKFold"
   ]
  },
  {
   "cell_type": "code",
   "execution_count": 34,
   "metadata": {},
   "outputs": [],
   "source": [
    "def metric(y, pred):\n",
    "    return roc_auc_score(y, pred, labels=[0, 1])"
   ]
  },
  {
   "cell_type": "code",
   "execution_count": 35,
   "metadata": {},
   "outputs": [],
   "source": [
    "# Specify number of folds\n",
    "n_skf = 10\n",
    "kf = StratifiedKFold(n_skf)\n",
    "\n",
    "\n",
    "seed = 2020\n",
    "\n",
    "## Manually tweak the hyperparameter, learning rate and n_estimators especially\n",
    "params = {\n",
    "    'n_estimators': 4000,\n",
    "    'learning_rate': 0.01,\n",
    "    'objective': 'CrossEntropy',\n",
    "      'eval_metric':'AUC',\n",
    "    'random_seed': seed,\n",
    "    'early_stopping_rounds': 200,\n",
    "    'use_best_model': True,\n",
    "    'max_depth' : 8\n",
    "}"
   ]
  },
  {
   "cell_type": "code",
   "execution_count": 36,
   "metadata": {},
   "outputs": [
    {
     "name": "stdout",
     "output_type": "stream",
     "text": [
      "[ 5541  5542  5543 ... 55997 55998 55999]\n",
      "[    0     1     2 ... 55997 55998 55999]\n",
      "[    0     1     2 ... 55997 55998 55999]\n",
      "[    0     1     2 ... 55997 55998 55999]\n",
      "[    0     1     2 ... 55997 55998 55999]\n",
      "[    0     1     2 ... 55997 55998 55999]\n",
      "[    0     1     2 ... 55997 55998 55999]\n",
      "[    0     1     2 ... 55997 55998 55999]\n",
      "[    0     1     2 ... 55997 55998 55999]\n",
      "[    0     1     2 ... 50515 50518 50519]\n"
     ]
    }
   ],
   "source": [
    "for i, (tr_idx, vr_idx) in enumerate(kf.split(X,y)):\n",
    "    print(tr_idx)"
   ]
  },
  {
   "cell_type": "code",
   "execution_count": null,
   "metadata": {},
   "outputs": [],
   "source": []
  },
  {
   "cell_type": "code",
   "execution_count": 37,
   "metadata": {},
   "outputs": [
    {
     "name": "stdout",
     "output_type": "stream",
     "text": [
      "0:\ttest: 0.7918478\tbest: 0.7918478 (0)\ttotal: 2.62s\tremaining: 2h 54m 55s\n",
      "100:\ttest: 0.8199874\tbest: 0.8199874 (100)\ttotal: 13.1s\tremaining: 8m 27s\n",
      "200:\ttest: 0.8231007\tbest: 0.8231007 (200)\ttotal: 22.7s\tremaining: 7m 8s\n",
      "300:\ttest: 0.8253684\tbest: 0.8253684 (300)\ttotal: 32.4s\tremaining: 6m 38s\n",
      "400:\ttest: 0.8267275\tbest: 0.8267275 (400)\ttotal: 44.5s\tremaining: 6m 39s\n",
      "500:\ttest: 0.8279217\tbest: 0.8279251 (499)\ttotal: 55.1s\tremaining: 6m 24s\n",
      "600:\ttest: 0.8287035\tbest: 0.8287035 (600)\ttotal: 1m 5s\tremaining: 6m 10s\n",
      "700:\ttest: 0.8294019\tbest: 0.8294022 (699)\ttotal: 1m 16s\tremaining: 6m\n",
      "800:\ttest: 0.8298826\tbest: 0.8299048 (790)\ttotal: 1m 28s\tremaining: 5m 51s\n",
      "900:\ttest: 0.8302504\tbest: 0.8302810 (893)\ttotal: 1m 39s\tremaining: 5m 43s\n",
      "1000:\ttest: 0.8307849\tbest: 0.8307896 (997)\ttotal: 1m 51s\tremaining: 5m 35s\n",
      "1100:\ttest: 0.8310547\tbest: 0.8310804 (1068)\ttotal: 2m 2s\tremaining: 5m 23s\n",
      "1200:\ttest: 0.8311840\tbest: 0.8311896 (1183)\ttotal: 2m 13s\tremaining: 5m 11s\n",
      "1300:\ttest: 0.8315276\tbest: 0.8315526 (1296)\ttotal: 2m 23s\tremaining: 4m 57s\n",
      "1400:\ttest: 0.8317472\tbest: 0.8317644 (1398)\ttotal: 2m 35s\tremaining: 4m 48s\n",
      "1500:\ttest: 0.8319403\tbest: 0.8319629 (1493)\ttotal: 2m 45s\tremaining: 4m 35s\n",
      "1600:\ttest: 0.8319631\tbest: 0.8320150 (1555)\ttotal: 2m 54s\tremaining: 4m 21s\n",
      "1700:\ttest: 0.8320078\tbest: 0.8320335 (1696)\ttotal: 3m 3s\tremaining: 4m 8s\n",
      "1800:\ttest: 0.8320257\tbest: 0.8320383 (1756)\ttotal: 3m 13s\tremaining: 3m 56s\n",
      "1900:\ttest: 0.8320487\tbest: 0.8321218 (1864)\ttotal: 3m 24s\tremaining: 3m 45s\n",
      "2000:\ttest: 0.8320330\tbest: 0.8321218 (1864)\ttotal: 3m 33s\tremaining: 3m 33s\n",
      "Stopped by overfitting detector  (200 iterations wait)\n",
      "\n",
      "bestTest = 0.8321217863\n",
      "bestIteration = 1864\n",
      "\n",
      "Shrink model to first 1865 iterations.\n",
      "Fold 0 : 0.8321217863044564\n",
      "0:\ttest: 0.8111704\tbest: 0.8111704 (0)\ttotal: 124ms\tremaining: 8m 15s\n",
      "100:\ttest: 0.8354289\tbest: 0.8354289 (100)\ttotal: 12.3s\tremaining: 7m 55s\n",
      "200:\ttest: 0.8396517\tbest: 0.8396517 (200)\ttotal: 22.5s\tremaining: 7m 5s\n",
      "300:\ttest: 0.8416274\tbest: 0.8416274 (300)\ttotal: 31.6s\tremaining: 6m 27s\n",
      "400:\ttest: 0.8430575\tbest: 0.8430575 (400)\ttotal: 40.8s\tremaining: 6m 6s\n",
      "500:\ttest: 0.8441517\tbest: 0.8441517 (500)\ttotal: 50.5s\tremaining: 5m 53s\n",
      "600:\ttest: 0.8448513\tbest: 0.8448513 (600)\ttotal: 59.8s\tremaining: 5m 38s\n",
      "700:\ttest: 0.8454908\tbest: 0.8454911 (698)\ttotal: 1m 9s\tremaining: 5m 26s\n",
      "800:\ttest: 0.8461074\tbest: 0.8461074 (800)\ttotal: 1m 18s\tremaining: 5m 11s\n",
      "900:\ttest: 0.8464437\tbest: 0.8464518 (899)\ttotal: 1m 26s\tremaining: 4m 59s\n",
      "1000:\ttest: 0.8467299\tbest: 0.8467330 (999)\ttotal: 1m 36s\tremaining: 4m 47s\n",
      "1100:\ttest: 0.8471165\tbest: 0.8471181 (1099)\ttotal: 1m 45s\tremaining: 4m 38s\n",
      "1200:\ttest: 0.8473875\tbest: 0.8473920 (1194)\ttotal: 1m 56s\tremaining: 4m 31s\n",
      "1300:\ttest: 0.8475788\tbest: 0.8476078 (1296)\ttotal: 2m 4s\tremaining: 4m 17s\n",
      "1400:\ttest: 0.8476735\tbest: 0.8476885 (1377)\ttotal: 2m 13s\tremaining: 4m 8s\n",
      "1500:\ttest: 0.8477499\tbest: 0.8477921 (1480)\ttotal: 2m 24s\tremaining: 4m\n",
      "1600:\ttest: 0.8476566\tbest: 0.8477921 (1480)\ttotal: 2m 34s\tremaining: 3m 51s\n",
      "Stopped by overfitting detector  (200 iterations wait)\n",
      "\n",
      "bestTest = 0.8477921282\n",
      "bestIteration = 1480\n",
      "\n",
      "Shrink model to first 1481 iterations.\n",
      "Fold 1 : 0.8477921282299512\n",
      "0:\ttest: 0.8024105\tbest: 0.8024105 (0)\ttotal: 122ms\tremaining: 8m 8s\n",
      "100:\ttest: 0.8287617\tbest: 0.8287617 (100)\ttotal: 8.91s\tremaining: 5m 43s\n",
      "200:\ttest: 0.8333794\tbest: 0.8333794 (200)\ttotal: 16.5s\tremaining: 5m 12s\n",
      "300:\ttest: 0.8357074\tbest: 0.8357100 (299)\ttotal: 24.4s\tremaining: 4m 59s\n",
      "400:\ttest: 0.8370486\tbest: 0.8370486 (400)\ttotal: 33.5s\tremaining: 5m\n",
      "500:\ttest: 0.8380802\tbest: 0.8380802 (500)\ttotal: 42.3s\tremaining: 4m 55s\n",
      "600:\ttest: 0.8386374\tbest: 0.8386552 (589)\ttotal: 50.1s\tremaining: 4m 43s\n",
      "700:\ttest: 0.8391357\tbest: 0.8391402 (699)\ttotal: 58.1s\tremaining: 4m 33s\n",
      "800:\ttest: 0.8395817\tbest: 0.8395940 (796)\ttotal: 1m 5s\tremaining: 4m 22s\n",
      "900:\ttest: 0.8398893\tbest: 0.8399034 (891)\ttotal: 1m 14s\tremaining: 4m 14s\n",
      "1000:\ttest: 0.8401252\tbest: 0.8401349 (989)\ttotal: 1m 22s\tremaining: 4m 7s\n",
      "1100:\ttest: 0.8403782\tbest: 0.8403879 (1098)\ttotal: 1m 30s\tremaining: 3m 58s\n",
      "1200:\ttest: 0.8407090\tbest: 0.8407090 (1200)\ttotal: 1m 40s\tremaining: 3m 54s\n",
      "1300:\ttest: 0.8409677\tbest: 0.8409677 (1300)\ttotal: 1m 52s\tremaining: 3m 53s\n",
      "1400:\ttest: 0.8411211\tbest: 0.8411373 (1398)\ttotal: 2m 4s\tremaining: 3m 50s\n",
      "1500:\ttest: 0.8412059\tbest: 0.8412370 (1467)\ttotal: 2m 16s\tremaining: 3m 47s\n",
      "1600:\ttest: 0.8411545\tbest: 0.8412685 (1530)\ttotal: 2m 27s\tremaining: 3m 41s\n",
      "1700:\ttest: 0.8412718\tbest: 0.8413105 (1692)\ttotal: 2m 39s\tremaining: 3m 35s\n",
      "1800:\ttest: 0.8410930\tbest: 0.8413110 (1709)\ttotal: 2m 51s\tremaining: 3m 29s\n",
      "1900:\ttest: 0.8410607\tbest: 0.8413110 (1709)\ttotal: 3m\tremaining: 3m 19s\n",
      "Stopped by overfitting detector  (200 iterations wait)\n",
      "\n",
      "bestTest = 0.8413109682\n",
      "bestIteration = 1709\n",
      "\n",
      "Shrink model to first 1710 iterations.\n",
      "Fold 2 : 0.8413109682217484\n",
      "0:\ttest: 0.7964505\tbest: 0.7964505 (0)\ttotal: 118ms\tremaining: 7m 52s\n",
      "100:\ttest: 0.8217822\tbest: 0.8217822 (100)\ttotal: 10.3s\tremaining: 6m 35s\n",
      "200:\ttest: 0.8268304\tbest: 0.8268304 (200)\ttotal: 21.8s\tremaining: 6m 52s\n",
      "300:\ttest: 0.8291815\tbest: 0.8291815 (300)\ttotal: 32.8s\tremaining: 6m 43s\n",
      "400:\ttest: 0.8308344\tbest: 0.8308344 (400)\ttotal: 44.4s\tremaining: 6m 38s\n",
      "500:\ttest: 0.8319392\tbest: 0.8319392 (500)\ttotal: 54.6s\tremaining: 6m 21s\n",
      "600:\ttest: 0.8326728\tbest: 0.8326728 (600)\ttotal: 1m 5s\tremaining: 6m 9s\n",
      "700:\ttest: 0.8333815\tbest: 0.8333851 (699)\ttotal: 1m 15s\tremaining: 5m 53s\n",
      "800:\ttest: 0.8337652\tbest: 0.8337923 (796)\ttotal: 1m 24s\tremaining: 5m 38s\n",
      "900:\ttest: 0.8340275\tbest: 0.8340362 (899)\ttotal: 1m 36s\tremaining: 5m 30s\n",
      "1000:\ttest: 0.8343599\tbest: 0.8343680 (997)\ttotal: 1m 45s\tremaining: 5m 14s\n",
      "1100:\ttest: 0.8347289\tbest: 0.8347368 (1099)\ttotal: 1m 54s\tremaining: 5m 2s\n",
      "1200:\ttest: 0.8350751\tbest: 0.8350875 (1195)\ttotal: 2m 3s\tremaining: 4m 48s\n",
      "1300:\ttest: 0.8354093\tbest: 0.8354136 (1299)\ttotal: 2m 12s\tremaining: 4m 33s\n",
      "1400:\ttest: 0.8356687\tbest: 0.8356739 (1376)\ttotal: 2m 19s\tremaining: 4m 19s\n",
      "1500:\ttest: 0.8358533\tbest: 0.8358584 (1470)\ttotal: 2m 28s\tremaining: 4m 6s\n",
      "1600:\ttest: 0.8362031\tbest: 0.8362170 (1598)\ttotal: 2m 35s\tremaining: 3m 53s\n",
      "1700:\ttest: 0.8361534\tbest: 0.8362472 (1616)\ttotal: 2m 44s\tremaining: 3m 42s\n",
      "1800:\ttest: 0.8360808\tbest: 0.8362472 (1616)\ttotal: 2m 52s\tremaining: 3m 30s\n",
      "Stopped by overfitting detector  (200 iterations wait)\n",
      "\n",
      "bestTest = 0.8362472035\n",
      "bestIteration = 1616\n",
      "\n",
      "Shrink model to first 1617 iterations.\n",
      "Fold 3 : 0.8362472035417982\n",
      "0:\ttest: 0.7970095\tbest: 0.7970095 (0)\ttotal: 94.9ms\tremaining: 6m 19s\n",
      "100:\ttest: 0.8303924\tbest: 0.8303924 (100)\ttotal: 8.82s\tremaining: 5m 40s\n",
      "200:\ttest: 0.8350821\tbest: 0.8350821 (200)\ttotal: 16.9s\tremaining: 5m 19s\n",
      "300:\ttest: 0.8373171\tbest: 0.8373339 (299)\ttotal: 24.9s\tremaining: 5m 6s\n",
      "400:\ttest: 0.8389485\tbest: 0.8389485 (400)\ttotal: 32.7s\tremaining: 4m 53s\n",
      "500:\ttest: 0.8401322\tbest: 0.8401322 (500)\ttotal: 40.5s\tremaining: 4m 43s\n",
      "600:\ttest: 0.8410185\tbest: 0.8410220 (599)\ttotal: 48.8s\tremaining: 4m 36s\n",
      "700:\ttest: 0.8418209\tbest: 0.8418235 (692)\ttotal: 56.7s\tremaining: 4m 26s\n",
      "800:\ttest: 0.8424120\tbest: 0.8424120 (800)\ttotal: 1m 5s\tremaining: 4m 20s\n",
      "900:\ttest: 0.8429713\tbest: 0.8429713 (900)\ttotal: 1m 13s\tremaining: 4m 11s\n",
      "1000:\ttest: 0.8432867\tbest: 0.8432867 (1000)\ttotal: 1m 21s\tremaining: 4m 4s\n",
      "1100:\ttest: 0.8436174\tbest: 0.8436255 (1099)\ttotal: 1m 29s\tremaining: 3m 55s\n",
      "1200:\ttest: 0.8436139\tbest: 0.8437045 (1139)\ttotal: 1m 37s\tremaining: 3m 47s\n",
      "1300:\ttest: 0.8438326\tbest: 0.8438513 (1298)\ttotal: 1m 45s\tremaining: 3m 38s\n",
      "1400:\ttest: 0.8439387\tbest: 0.8439553 (1383)\ttotal: 1m 53s\tremaining: 3m 30s\n",
      "1500:\ttest: 0.8439299\tbest: 0.8440277 (1419)\ttotal: 2m 1s\tremaining: 3m 21s\n",
      "1600:\ttest: 0.8439725\tbest: 0.8440332 (1583)\ttotal: 2m 9s\tremaining: 3m 13s\n",
      "1700:\ttest: 0.8440584\tbest: 0.8440712 (1698)\ttotal: 2m 19s\tremaining: 3m 8s\n",
      "1800:\ttest: 0.8441301\tbest: 0.8441462 (1776)\ttotal: 2m 28s\tremaining: 3m 1s\n",
      "1900:\ttest: 0.8441850\tbest: 0.8442209 (1883)\ttotal: 2m 39s\tremaining: 2m 55s\n",
      "2000:\ttest: 0.8441719\tbest: 0.8442209 (1883)\ttotal: 2m 48s\tremaining: 2m 48s\n",
      "2100:\ttest: 0.8443161\tbest: 0.8443211 (2075)\ttotal: 3m 1s\tremaining: 2m 43s\n",
      "2200:\ttest: 0.8444087\tbest: 0.8444094 (2198)\ttotal: 3m 13s\tremaining: 2m 38s\n",
      "2300:\ttest: 0.8443542\tbest: 0.8444773 (2251)\ttotal: 3m 25s\tremaining: 2m 31s\n"
     ]
    },
    {
     "name": "stdout",
     "output_type": "stream",
     "text": [
      "2400:\ttest: 0.8441662\tbest: 0.8444773 (2251)\ttotal: 3m 36s\tremaining: 2m 24s\n",
      "Stopped by overfitting detector  (200 iterations wait)\n",
      "\n",
      "bestTest = 0.8444773411\n",
      "bestIteration = 2251\n",
      "\n",
      "Shrink model to first 2252 iterations.\n",
      "Fold 4 : 0.8444773410781277\n",
      "0:\ttest: 0.8026219\tbest: 0.8026219 (0)\ttotal: 147ms\tremaining: 9m 46s\n",
      "100:\ttest: 0.8302852\tbest: 0.8302852 (100)\ttotal: 11.6s\tremaining: 7m 29s\n",
      "200:\ttest: 0.8342721\tbest: 0.8342721 (200)\ttotal: 22s\tremaining: 6m 56s\n",
      "300:\ttest: 0.8364720\tbest: 0.8364735 (299)\ttotal: 32.8s\tremaining: 6m 43s\n",
      "400:\ttest: 0.8379418\tbest: 0.8379418 (400)\ttotal: 43.6s\tremaining: 6m 31s\n",
      "500:\ttest: 0.8392902\tbest: 0.8392902 (500)\ttotal: 54.6s\tremaining: 6m 21s\n",
      "600:\ttest: 0.8400884\tbest: 0.8400884 (600)\ttotal: 1m 6s\tremaining: 6m 15s\n",
      "700:\ttest: 0.8407767\tbest: 0.8407803 (695)\ttotal: 1m 17s\tremaining: 6m 3s\n",
      "800:\ttest: 0.8411782\tbest: 0.8411782 (800)\ttotal: 1m 28s\tremaining: 5m 51s\n",
      "900:\ttest: 0.8415969\tbest: 0.8415969 (900)\ttotal: 1m 38s\tremaining: 5m 39s\n",
      "1000:\ttest: 0.8417788\tbest: 0.8417852 (997)\ttotal: 1m 48s\tremaining: 5m 23s\n",
      "1100:\ttest: 0.8419560\tbest: 0.8419560 (1100)\ttotal: 1m 57s\tremaining: 5m 8s\n",
      "1200:\ttest: 0.8419922\tbest: 0.8420669 (1144)\ttotal: 2m 6s\tremaining: 4m 54s\n",
      "1300:\ttest: 0.8421879\tbest: 0.8422365 (1277)\ttotal: 2m 16s\tremaining: 4m 43s\n",
      "1400:\ttest: 0.8423130\tbest: 0.8423184 (1397)\ttotal: 2m 26s\tremaining: 4m 31s\n",
      "1500:\ttest: 0.8424718\tbest: 0.8424718 (1500)\ttotal: 2m 35s\tremaining: 4m 19s\n",
      "1600:\ttest: 0.8424589\tbest: 0.8425058 (1593)\ttotal: 2m 45s\tremaining: 4m 7s\n",
      "1700:\ttest: 0.8426068\tbest: 0.8426068 (1700)\ttotal: 2m 54s\tremaining: 3m 55s\n",
      "1800:\ttest: 0.8426139\tbest: 0.8426282 (1796)\ttotal: 3m 3s\tremaining: 3m 43s\n",
      "1900:\ttest: 0.8427268\tbest: 0.8427495 (1868)\ttotal: 3m 11s\tremaining: 3m 31s\n",
      "2000:\ttest: 0.8427194\tbest: 0.8427888 (1922)\ttotal: 3m 19s\tremaining: 3m 19s\n",
      "2100:\ttest: 0.8428311\tbest: 0.8428347 (2096)\ttotal: 3m 28s\tremaining: 3m 8s\n",
      "2200:\ttest: 0.8429281\tbest: 0.8429542 (2195)\ttotal: 3m 36s\tremaining: 2m 57s\n",
      "2300:\ttest: 0.8427420\tbest: 0.8429542 (2195)\ttotal: 3m 45s\tremaining: 2m 46s\n",
      "Stopped by overfitting detector  (200 iterations wait)\n",
      "\n",
      "bestTest = 0.8429541637\n",
      "bestIteration = 2195\n",
      "\n",
      "Shrink model to first 2196 iterations.\n",
      "Fold 5 : 0.8429541636900739\n",
      "0:\ttest: 0.7887711\tbest: 0.7887711 (0)\ttotal: 288ms\tremaining: 19m 12s\n",
      "100:\ttest: 0.8096390\tbest: 0.8096390 (100)\ttotal: 10.2s\tremaining: 6m 31s\n",
      "200:\ttest: 0.8130714\tbest: 0.8130866 (198)\ttotal: 19.2s\tremaining: 6m 2s\n",
      "300:\ttest: 0.8148414\tbest: 0.8148414 (300)\ttotal: 27.8s\tremaining: 5m 41s\n",
      "400:\ttest: 0.8161338\tbest: 0.8161469 (399)\ttotal: 36.7s\tremaining: 5m 29s\n",
      "500:\ttest: 0.8173116\tbest: 0.8173116 (500)\ttotal: 45.1s\tremaining: 5m 15s\n",
      "600:\ttest: 0.8179710\tbest: 0.8179837 (595)\ttotal: 53.9s\tremaining: 5m 4s\n",
      "700:\ttest: 0.8185221\tbest: 0.8185221 (700)\ttotal: 1m 2s\tremaining: 4m 52s\n",
      "800:\ttest: 0.8190379\tbest: 0.8190379 (800)\ttotal: 1m 10s\tremaining: 4m 41s\n",
      "900:\ttest: 0.8195888\tbest: 0.8196054 (897)\ttotal: 1m 18s\tremaining: 4m 30s\n",
      "1000:\ttest: 0.8198564\tbest: 0.8198564 (1000)\ttotal: 1m 27s\tremaining: 4m 20s\n",
      "1100:\ttest: 0.8199029\tbest: 0.8199229 (1091)\ttotal: 1m 35s\tremaining: 4m 11s\n",
      "1200:\ttest: 0.8202372\tbest: 0.8202418 (1191)\ttotal: 1m 44s\tremaining: 4m 3s\n",
      "1300:\ttest: 0.8202441\tbest: 0.8203715 (1264)\ttotal: 1m 53s\tremaining: 3m 55s\n",
      "1400:\ttest: 0.8204451\tbest: 0.8204451 (1400)\ttotal: 2m 2s\tremaining: 3m 46s\n",
      "1500:\ttest: 0.8204097\tbest: 0.8204544 (1413)\ttotal: 2m 11s\tremaining: 3m 38s\n",
      "1600:\ttest: 0.8204365\tbest: 0.8204889 (1547)\ttotal: 2m 20s\tremaining: 3m 30s\n",
      "1700:\ttest: 0.8205278\tbest: 0.8205652 (1693)\ttotal: 2m 29s\tremaining: 3m 21s\n",
      "1800:\ttest: 0.8206444\tbest: 0.8206932 (1756)\ttotal: 2m 38s\tremaining: 3m 13s\n",
      "1900:\ttest: 0.8206444\tbest: 0.8206932 (1756)\ttotal: 2m 48s\tremaining: 3m 5s\n",
      "2000:\ttest: 0.8206368\tbest: 0.8207088 (1931)\ttotal: 2m 58s\tremaining: 2m 58s\n",
      "2100:\ttest: 0.8206487\tbest: 0.8207088 (1931)\ttotal: 3m 9s\tremaining: 2m 51s\n",
      "Stopped by overfitting detector  (200 iterations wait)\n",
      "\n",
      "bestTest = 0.8207088451\n",
      "bestIteration = 1931\n",
      "\n",
      "Shrink model to first 1932 iterations.\n",
      "Fold 6 : 0.8207088451004134\n",
      "0:\ttest: 0.8044128\tbest: 0.8044128 (0)\ttotal: 110ms\tremaining: 7m 18s\n",
      "100:\ttest: 0.8270165\tbest: 0.8270377 (99)\ttotal: 9.45s\tremaining: 6m 4s\n",
      "200:\ttest: 0.8329587\tbest: 0.8329587 (200)\ttotal: 19.3s\tremaining: 6m 4s\n",
      "300:\ttest: 0.8359696\tbest: 0.8359696 (300)\ttotal: 29.1s\tremaining: 5m 57s\n",
      "400:\ttest: 0.8378737\tbest: 0.8378737 (400)\ttotal: 39.1s\tremaining: 5m 51s\n",
      "500:\ttest: 0.8392974\tbest: 0.8392974 (500)\ttotal: 49.8s\tremaining: 5m 47s\n",
      "600:\ttest: 0.8402870\tbest: 0.8402870 (600)\ttotal: 1m\tremaining: 5m 41s\n",
      "700:\ttest: 0.8410994\tbest: 0.8411010 (699)\ttotal: 1m 11s\tremaining: 5m 35s\n",
      "800:\ttest: 0.8417795\tbest: 0.8417964 (798)\ttotal: 1m 20s\tremaining: 5m 21s\n",
      "900:\ttest: 0.8421289\tbest: 0.8421298 (898)\ttotal: 1m 29s\tremaining: 5m 7s\n",
      "1000:\ttest: 0.8424189\tbest: 0.8424308 (998)\ttotal: 1m 38s\tremaining: 4m 55s\n",
      "1100:\ttest: 0.8426863\tbest: 0.8427147 (1099)\ttotal: 1m 47s\tremaining: 4m 43s\n",
      "1200:\ttest: 0.8429255\tbest: 0.8429255 (1200)\ttotal: 1m 56s\tremaining: 4m 31s\n",
      "1300:\ttest: 0.8432245\tbest: 0.8432245 (1300)\ttotal: 2m 4s\tremaining: 4m 19s\n",
      "1400:\ttest: 0.8433631\tbest: 0.8433862 (1371)\ttotal: 2m 13s\tremaining: 4m 7s\n",
      "1500:\ttest: 0.8434574\tbest: 0.8434844 (1492)\ttotal: 2m 22s\tremaining: 3m 57s\n",
      "1600:\ttest: 0.8436427\tbest: 0.8436567 (1594)\ttotal: 2m 30s\tremaining: 3m 45s\n",
      "1700:\ttest: 0.8437432\tbest: 0.8437472 (1695)\ttotal: 2m 38s\tremaining: 3m 34s\n",
      "1800:\ttest: 0.8436718\tbest: 0.8437527 (1702)\ttotal: 2m 47s\tremaining: 3m 24s\n",
      "1900:\ttest: 0.8438421\tbest: 0.8438618 (1892)\ttotal: 2m 56s\tremaining: 3m 14s\n",
      "2000:\ttest: 0.8438871\tbest: 0.8439418 (1959)\ttotal: 3m 5s\tremaining: 3m 5s\n",
      "2100:\ttest: 0.8437463\tbest: 0.8439418 (1959)\ttotal: 3m 14s\tremaining: 2m 56s\n",
      "Stopped by overfitting detector  (200 iterations wait)\n",
      "\n",
      "bestTest = 0.8439417834\n",
      "bestIteration = 1959\n",
      "\n",
      "Shrink model to first 1960 iterations.\n",
      "Fold 7 : 0.8439417833628925\n",
      "0:\ttest: 0.8247502\tbest: 0.8247502 (0)\ttotal: 103ms\tremaining: 6m 52s\n",
      "100:\ttest: 0.8488506\tbest: 0.8488506 (100)\ttotal: 10.3s\tremaining: 6m 37s\n",
      "200:\ttest: 0.8516743\tbest: 0.8516743 (200)\ttotal: 20.8s\tremaining: 6m 33s\n",
      "300:\ttest: 0.8536068\tbest: 0.8536084 (297)\ttotal: 31.6s\tremaining: 6m 28s\n",
      "400:\ttest: 0.8543286\tbest: 0.8543286 (400)\ttotal: 41.9s\tremaining: 6m 15s\n",
      "500:\ttest: 0.8551828\tbest: 0.8551828 (500)\ttotal: 54.9s\tremaining: 6m 23s\n",
      "600:\ttest: 0.8557127\tbest: 0.8557127 (600)\ttotal: 1m 5s\tremaining: 6m 13s\n",
      "700:\ttest: 0.8562023\tbest: 0.8562185 (696)\ttotal: 1m 16s\tremaining: 6m 1s\n",
      "800:\ttest: 0.8564180\tbest: 0.8564247 (796)\ttotal: 1m 26s\tremaining: 5m 45s\n",
      "900:\ttest: 0.8567002\tbest: 0.8567017 (899)\ttotal: 1m 37s\tremaining: 5m 35s\n",
      "1000:\ttest: 0.8568098\tbest: 0.8568679 (964)\ttotal: 1m 49s\tremaining: 5m 27s\n",
      "1100:\ttest: 0.8569996\tbest: 0.8570303 (1098)\ttotal: 2m\tremaining: 5m 16s\n",
      "1200:\ttest: 0.8569660\tbest: 0.8570325 (1116)\ttotal: 2m 10s\tremaining: 5m 3s\n",
      "1300:\ttest: 0.8569012\tbest: 0.8570325 (1116)\ttotal: 2m 19s\tremaining: 4m 48s\n",
      "Stopped by overfitting detector  (200 iterations wait)\n",
      "\n",
      "bestTest = 0.8570325278\n",
      "bestIteration = 1116\n",
      "\n",
      "Shrink model to first 1117 iterations.\n",
      "Fold 8 : 0.8570325278374631\n",
      "0:\ttest: 0.8037781\tbest: 0.8037781 (0)\ttotal: 104ms\tremaining: 6m 54s\n",
      "100:\ttest: 0.8319032\tbest: 0.8319032 (100)\ttotal: 10.6s\tremaining: 6m 47s\n",
      "200:\ttest: 0.8364502\tbest: 0.8364502 (200)\ttotal: 20.2s\tremaining: 6m 21s\n",
      "300:\ttest: 0.8386513\tbest: 0.8386513 (300)\ttotal: 29.3s\tremaining: 5m 59s\n",
      "400:\ttest: 0.8402554\tbest: 0.8402554 (400)\ttotal: 38.9s\tremaining: 5m 49s\n",
      "500:\ttest: 0.8415473\tbest: 0.8415475 (499)\ttotal: 48.6s\tremaining: 5m 39s\n",
      "600:\ttest: 0.8422894\tbest: 0.8422894 (600)\ttotal: 58.2s\tremaining: 5m 29s\n",
      "700:\ttest: 0.8432779\tbest: 0.8432779 (700)\ttotal: 1m 7s\tremaining: 5m 17s\n",
      "800:\ttest: 0.8440819\tbest: 0.8440819 (800)\ttotal: 1m 19s\tremaining: 5m 16s\n",
      "900:\ttest: 0.8446438\tbest: 0.8446675 (897)\ttotal: 1m 30s\tremaining: 5m 11s\n",
      "1000:\ttest: 0.8450134\tbest: 0.8450261 (996)\ttotal: 1m 40s\tremaining: 5m 2s\n",
      "1100:\ttest: 0.8454366\tbest: 0.8454402 (1099)\ttotal: 1m 50s\tremaining: 4m 51s\n",
      "1200:\ttest: 0.8459182\tbest: 0.8459182 (1200)\ttotal: 2m\tremaining: 4m 41s\n",
      "1300:\ttest: 0.8463730\tbest: 0.8463730 (1300)\ttotal: 2m 9s\tremaining: 4m 29s\n",
      "1400:\ttest: 0.8465035\tbest: 0.8465052 (1387)\ttotal: 2m 18s\tremaining: 4m 17s\n"
     ]
    },
    {
     "name": "stdout",
     "output_type": "stream",
     "text": [
      "1500:\ttest: 0.8467257\tbest: 0.8467257 (1500)\ttotal: 2m 30s\tremaining: 4m 11s\n",
      "1600:\ttest: 0.8467648\tbest: 0.8467983 (1545)\ttotal: 2m 40s\tremaining: 4m\n",
      "1700:\ttest: 0.8468038\tbest: 0.8468447 (1685)\ttotal: 2m 49s\tremaining: 3m 49s\n",
      "1800:\ttest: 0.8468345\tbest: 0.8468753 (1732)\ttotal: 2m 58s\tremaining: 3m 38s\n",
      "1900:\ttest: 0.8468846\tbest: 0.8468914 (1885)\ttotal: 3m 7s\tremaining: 3m 27s\n",
      "2000:\ttest: 0.8470482\tbest: 0.8470482 (2000)\ttotal: 3m 16s\tremaining: 3m 16s\n",
      "2100:\ttest: 0.8471410\tbest: 0.8471768 (2073)\ttotal: 3m 25s\tremaining: 3m 5s\n",
      "2200:\ttest: 0.8472737\tbest: 0.8472872 (2192)\ttotal: 3m 33s\tremaining: 2m 54s\n",
      "2300:\ttest: 0.8473110\tbest: 0.8473492 (2275)\ttotal: 3m 42s\tremaining: 2m 44s\n",
      "2400:\ttest: 0.8472894\tbest: 0.8473579 (2382)\ttotal: 3m 53s\tremaining: 2m 35s\n",
      "2500:\ttest: 0.8473556\tbest: 0.8473782 (2472)\ttotal: 4m 4s\tremaining: 2m 26s\n",
      "2600:\ttest: 0.8473601\tbest: 0.8474070 (2555)\ttotal: 4m 15s\tremaining: 2m 17s\n",
      "2700:\ttest: 0.8473729\tbest: 0.8474070 (2555)\ttotal: 4m 26s\tremaining: 2m 7s\n",
      "2800:\ttest: 0.8474378\tbest: 0.8474682 (2754)\ttotal: 4m 36s\tremaining: 1m 58s\n",
      "2900:\ttest: 0.8473978\tbest: 0.8474682 (2754)\ttotal: 4m 48s\tremaining: 1m 49s\n",
      "Stopped by overfitting detector  (200 iterations wait)\n",
      "\n",
      "bestTest = 0.8474681838\n",
      "bestIteration = 2754\n",
      "\n",
      "Shrink model to first 2755 iterations.\n",
      "Fold 9 : 0.8474681837865569\n",
      "\n",
      "\n",
      "Avg log :  0.8414054931153483\n"
     ]
    }
   ],
   "source": [
    "score_list = []\n",
    "score = 0\n",
    "test_oofs = []\n",
    "\n",
    "for i, (tr_idx, vr_idx) in enumerate(kf.split(X, y)):\n",
    "    \n",
    "    xtrain, ytrain = X.loc[tr_idx, features], y.loc[tr_idx]\n",
    "    xval, yval = X.loc[vr_idx, features], y.loc[vr_idx]\n",
    "\n",
    "    model = CatBoostClassifier(**params)\n",
    "    model.fit(xtrain, ytrain, eval_set=[(xval,yval)], verbose=100)\n",
    "    \n",
    "    p = model.predict_proba(xval)[:, 1]\n",
    "    sc = metric(yval, p)\n",
    "    score_list.append(sc)\n",
    "    score += sc/n_skf\n",
    "    \n",
    "    pred = model.predict_proba(test[features])[:, 1]\n",
    "    test_oofs.append(pred)\n",
    "\n",
    "    print('Fold {} : {}'.format(i, sc))\n",
    "\n",
    "print()\n",
    "print()\n",
    "print('Avg log : ', score)"
   ]
  },
  {
   "cell_type": "code",
   "execution_count": 38,
   "metadata": {},
   "outputs": [
    {
     "data": {
      "text/plain": [
       "'10 fold CV, score: 0.8414054931153483'"
      ]
     },
     "execution_count": 38,
     "metadata": {},
     "output_type": "execute_result"
    }
   ],
   "source": [
    "f\"{n_skf} fold CV, score: {score}\" #Increase in local cv score should probably lead to increase in Leaderboard score"
   ]
  },
  {
   "cell_type": "code",
   "execution_count": null,
   "metadata": {},
   "outputs": [],
   "source": []
  },
  {
   "cell_type": "code",
   "execution_count": null,
   "metadata": {},
   "outputs": [],
   "source": []
  },
  {
   "cell_type": "code",
   "execution_count": 64,
   "metadata": {},
   "outputs": [
    {
     "data": {
      "text/plain": [
       "[array([0.30213343, 0.44499827, 0.36296384, ..., 0.28552438, 0.52739302,\n",
       "        0.20275127]),\n",
       " array([0.32063421, 0.37933625, 0.3630792 , ..., 0.2955752 , 0.53483498,\n",
       "        0.2013389 ]),\n",
       " array([0.29860268, 0.38757586, 0.38794724, ..., 0.26819952, 0.54545963,\n",
       "        0.19546488]),\n",
       " array([0.31203107, 0.40635114, 0.39923915, ..., 0.29784221, 0.5311733 ,\n",
       "        0.21009279]),\n",
       " array([0.30896848, 0.42498909, 0.41508828, ..., 0.29022784, 0.58612385,\n",
       "        0.17620641]),\n",
       " array([0.33816013, 0.39662144, 0.41011058, ..., 0.30062129, 0.54162048,\n",
       "        0.18586841]),\n",
       " array([0.30459496, 0.37344413, 0.41264472, ..., 0.26957679, 0.55018178,\n",
       "        0.19065253]),\n",
       " array([0.28446716, 0.38993754, 0.39537534, ..., 0.28520926, 0.57344157,\n",
       "        0.1902729 ]),\n",
       " array([0.28114073, 0.41998273, 0.33415397, ..., 0.28112709, 0.51988342,\n",
       "        0.20409841]),\n",
       " array([0.32420354, 0.33403801, 0.35762793, ..., 0.27219364, 0.55482573,\n",
       "        0.21140756])]"
      ]
     },
     "execution_count": 64,
     "metadata": {},
     "output_type": "execute_result"
    }
   ],
   "source": [
    "test_oofs"
   ]
  },
  {
   "cell_type": "code",
   "execution_count": 65,
   "metadata": {},
   "outputs": [],
   "source": [
    "oof_prediction = pd.DataFrame(test_oofs).T"
   ]
  },
  {
   "cell_type": "code",
   "execution_count": 66,
   "metadata": {},
   "outputs": [
    {
     "data": {
      "text/html": [
       "<div>\n",
       "<style scoped>\n",
       "    .dataframe tbody tr th:only-of-type {\n",
       "        vertical-align: middle;\n",
       "    }\n",
       "\n",
       "    .dataframe tbody tr th {\n",
       "        vertical-align: top;\n",
       "    }\n",
       "\n",
       "    .dataframe thead th {\n",
       "        text-align: right;\n",
       "    }\n",
       "</style>\n",
       "<table border=\"1\" class=\"dataframe\">\n",
       "  <thead>\n",
       "    <tr style=\"text-align: right;\">\n",
       "      <th></th>\n",
       "      <th>0</th>\n",
       "      <th>1</th>\n",
       "      <th>2</th>\n",
       "      <th>3</th>\n",
       "      <th>4</th>\n",
       "      <th>5</th>\n",
       "      <th>6</th>\n",
       "      <th>7</th>\n",
       "      <th>8</th>\n",
       "      <th>9</th>\n",
       "    </tr>\n",
       "  </thead>\n",
       "  <tbody>\n",
       "    <tr>\n",
       "      <th>0</th>\n",
       "      <td>0.302133</td>\n",
       "      <td>0.320634</td>\n",
       "      <td>0.298603</td>\n",
       "      <td>0.312031</td>\n",
       "      <td>0.308968</td>\n",
       "      <td>0.338160</td>\n",
       "      <td>0.304595</td>\n",
       "      <td>0.284467</td>\n",
       "      <td>0.281141</td>\n",
       "      <td>0.324204</td>\n",
       "    </tr>\n",
       "    <tr>\n",
       "      <th>1</th>\n",
       "      <td>0.444998</td>\n",
       "      <td>0.379336</td>\n",
       "      <td>0.387576</td>\n",
       "      <td>0.406351</td>\n",
       "      <td>0.424989</td>\n",
       "      <td>0.396621</td>\n",
       "      <td>0.373444</td>\n",
       "      <td>0.389938</td>\n",
       "      <td>0.419983</td>\n",
       "      <td>0.334038</td>\n",
       "    </tr>\n",
       "    <tr>\n",
       "      <th>2</th>\n",
       "      <td>0.362964</td>\n",
       "      <td>0.363079</td>\n",
       "      <td>0.387947</td>\n",
       "      <td>0.399239</td>\n",
       "      <td>0.415088</td>\n",
       "      <td>0.410111</td>\n",
       "      <td>0.412645</td>\n",
       "      <td>0.395375</td>\n",
       "      <td>0.334154</td>\n",
       "      <td>0.357628</td>\n",
       "    </tr>\n",
       "    <tr>\n",
       "      <th>3</th>\n",
       "      <td>0.731142</td>\n",
       "      <td>0.739864</td>\n",
       "      <td>0.742441</td>\n",
       "      <td>0.761255</td>\n",
       "      <td>0.735113</td>\n",
       "      <td>0.746385</td>\n",
       "      <td>0.750472</td>\n",
       "      <td>0.754447</td>\n",
       "      <td>0.735403</td>\n",
       "      <td>0.719562</td>\n",
       "    </tr>\n",
       "    <tr>\n",
       "      <th>4</th>\n",
       "      <td>0.167206</td>\n",
       "      <td>0.170846</td>\n",
       "      <td>0.163419</td>\n",
       "      <td>0.164726</td>\n",
       "      <td>0.165254</td>\n",
       "      <td>0.148719</td>\n",
       "      <td>0.174102</td>\n",
       "      <td>0.154023</td>\n",
       "      <td>0.176723</td>\n",
       "      <td>0.131201</td>\n",
       "    </tr>\n",
       "  </tbody>\n",
       "</table>\n",
       "</div>"
      ],
      "text/plain": [
       "          0         1         2         3         4         5         6  \\\n",
       "0  0.302133  0.320634  0.298603  0.312031  0.308968  0.338160  0.304595   \n",
       "1  0.444998  0.379336  0.387576  0.406351  0.424989  0.396621  0.373444   \n",
       "2  0.362964  0.363079  0.387947  0.399239  0.415088  0.410111  0.412645   \n",
       "3  0.731142  0.739864  0.742441  0.761255  0.735113  0.746385  0.750472   \n",
       "4  0.167206  0.170846  0.163419  0.164726  0.165254  0.148719  0.174102   \n",
       "\n",
       "          7         8         9  \n",
       "0  0.284467  0.281141  0.324204  \n",
       "1  0.389938  0.419983  0.334038  \n",
       "2  0.395375  0.334154  0.357628  \n",
       "3  0.754447  0.735403  0.719562  \n",
       "4  0.154023  0.176723  0.131201  "
      ]
     },
     "execution_count": 66,
     "metadata": {},
     "output_type": "execute_result"
    }
   ],
   "source": [
    "oof_prediction.head()"
   ]
  },
  {
   "cell_type": "code",
   "execution_count": 67,
   "metadata": {},
   "outputs": [
    {
     "data": {
      "text/plain": [
       "list"
      ]
     },
     "execution_count": 67,
     "metadata": {},
     "output_type": "execute_result"
    }
   ],
   "source": [
    "type(test_oofs)"
   ]
  },
  {
   "cell_type": "code",
   "execution_count": 68,
   "metadata": {},
   "outputs": [
    {
     "data": {
      "text/plain": [
       "[array([0.30213343, 0.44499827, 0.36296384, ..., 0.28552438, 0.52739302,\n",
       "        0.20275127]),\n",
       " array([0.32063421, 0.37933625, 0.3630792 , ..., 0.2955752 , 0.53483498,\n",
       "        0.2013389 ]),\n",
       " array([0.29860268, 0.38757586, 0.38794724, ..., 0.26819952, 0.54545963,\n",
       "        0.19546488]),\n",
       " array([0.31203107, 0.40635114, 0.39923915, ..., 0.29784221, 0.5311733 ,\n",
       "        0.21009279]),\n",
       " array([0.30896848, 0.42498909, 0.41508828, ..., 0.29022784, 0.58612385,\n",
       "        0.17620641])]"
      ]
     },
     "execution_count": 68,
     "metadata": {},
     "output_type": "execute_result"
    }
   ],
   "source": [
    "test_oofs[:5]"
   ]
  },
  {
   "cell_type": "code",
   "execution_count": 69,
   "metadata": {},
   "outputs": [
    {
     "data": {
      "text/html": [
       "<div>\n",
       "<style scoped>\n",
       "    .dataframe tbody tr th:only-of-type {\n",
       "        vertical-align: middle;\n",
       "    }\n",
       "\n",
       "    .dataframe tbody tr th {\n",
       "        vertical-align: top;\n",
       "    }\n",
       "\n",
       "    .dataframe thead th {\n",
       "        text-align: right;\n",
       "    }\n",
       "</style>\n",
       "<table border=\"1\" class=\"dataframe\">\n",
       "  <thead>\n",
       "    <tr style=\"text-align: right;\">\n",
       "      <th></th>\n",
       "      <th>0</th>\n",
       "      <th>1</th>\n",
       "      <th>2</th>\n",
       "      <th>3</th>\n",
       "      <th>4</th>\n",
       "      <th>5</th>\n",
       "      <th>6</th>\n",
       "      <th>7</th>\n",
       "      <th>8</th>\n",
       "      <th>9</th>\n",
       "    </tr>\n",
       "  </thead>\n",
       "  <tbody>\n",
       "    <tr>\n",
       "      <th>0</th>\n",
       "      <td>0.302133</td>\n",
       "      <td>0.320634</td>\n",
       "      <td>0.298603</td>\n",
       "      <td>0.312031</td>\n",
       "      <td>0.308968</td>\n",
       "      <td>0.338160</td>\n",
       "      <td>0.304595</td>\n",
       "      <td>0.284467</td>\n",
       "      <td>0.281141</td>\n",
       "      <td>0.324204</td>\n",
       "    </tr>\n",
       "    <tr>\n",
       "      <th>1</th>\n",
       "      <td>0.444998</td>\n",
       "      <td>0.379336</td>\n",
       "      <td>0.387576</td>\n",
       "      <td>0.406351</td>\n",
       "      <td>0.424989</td>\n",
       "      <td>0.396621</td>\n",
       "      <td>0.373444</td>\n",
       "      <td>0.389938</td>\n",
       "      <td>0.419983</td>\n",
       "      <td>0.334038</td>\n",
       "    </tr>\n",
       "    <tr>\n",
       "      <th>2</th>\n",
       "      <td>0.362964</td>\n",
       "      <td>0.363079</td>\n",
       "      <td>0.387947</td>\n",
       "      <td>0.399239</td>\n",
       "      <td>0.415088</td>\n",
       "      <td>0.410111</td>\n",
       "      <td>0.412645</td>\n",
       "      <td>0.395375</td>\n",
       "      <td>0.334154</td>\n",
       "      <td>0.357628</td>\n",
       "    </tr>\n",
       "    <tr>\n",
       "      <th>3</th>\n",
       "      <td>0.731142</td>\n",
       "      <td>0.739864</td>\n",
       "      <td>0.742441</td>\n",
       "      <td>0.761255</td>\n",
       "      <td>0.735113</td>\n",
       "      <td>0.746385</td>\n",
       "      <td>0.750472</td>\n",
       "      <td>0.754447</td>\n",
       "      <td>0.735403</td>\n",
       "      <td>0.719562</td>\n",
       "    </tr>\n",
       "    <tr>\n",
       "      <th>4</th>\n",
       "      <td>0.167206</td>\n",
       "      <td>0.170846</td>\n",
       "      <td>0.163419</td>\n",
       "      <td>0.164726</td>\n",
       "      <td>0.165254</td>\n",
       "      <td>0.148719</td>\n",
       "      <td>0.174102</td>\n",
       "      <td>0.154023</td>\n",
       "      <td>0.176723</td>\n",
       "      <td>0.131201</td>\n",
       "    </tr>\n",
       "  </tbody>\n",
       "</table>\n",
       "</div>"
      ],
      "text/plain": [
       "          0         1         2         3         4         5         6  \\\n",
       "0  0.302133  0.320634  0.298603  0.312031  0.308968  0.338160  0.304595   \n",
       "1  0.444998  0.379336  0.387576  0.406351  0.424989  0.396621  0.373444   \n",
       "2  0.362964  0.363079  0.387947  0.399239  0.415088  0.410111  0.412645   \n",
       "3  0.731142  0.739864  0.742441  0.761255  0.735113  0.746385  0.750472   \n",
       "4  0.167206  0.170846  0.163419  0.164726  0.165254  0.148719  0.174102   \n",
       "\n",
       "          7         8         9  \n",
       "0  0.284467  0.281141  0.324204  \n",
       "1  0.389938  0.419983  0.334038  \n",
       "2  0.395375  0.334154  0.357628  \n",
       "3  0.754447  0.735403  0.719562  \n",
       "4  0.154023  0.176723  0.131201  "
      ]
     },
     "execution_count": 69,
     "metadata": {},
     "output_type": "execute_result"
    }
   ],
   "source": [
    "oof_prediction.head()"
   ]
  },
  {
   "cell_type": "code",
   "execution_count": 70,
   "metadata": {},
   "outputs": [],
   "source": [
    "oof_prediction.columns = ['fold_'+ str(i) for i in range(1, n_skf + 1)]"
   ]
  },
  {
   "cell_type": "code",
   "execution_count": 71,
   "metadata": {},
   "outputs": [
    {
     "data": {
      "text/html": [
       "<div>\n",
       "<style scoped>\n",
       "    .dataframe tbody tr th:only-of-type {\n",
       "        vertical-align: middle;\n",
       "    }\n",
       "\n",
       "    .dataframe tbody tr th {\n",
       "        vertical-align: top;\n",
       "    }\n",
       "\n",
       "    .dataframe thead th {\n",
       "        text-align: right;\n",
       "    }\n",
       "</style>\n",
       "<table border=\"1\" class=\"dataframe\">\n",
       "  <thead>\n",
       "    <tr style=\"text-align: right;\">\n",
       "      <th></th>\n",
       "      <th>fold_1</th>\n",
       "      <th>fold_2</th>\n",
       "      <th>fold_3</th>\n",
       "      <th>fold_4</th>\n",
       "      <th>fold_5</th>\n",
       "      <th>fold_6</th>\n",
       "      <th>fold_7</th>\n",
       "      <th>fold_8</th>\n",
       "      <th>fold_9</th>\n",
       "      <th>fold_10</th>\n",
       "    </tr>\n",
       "  </thead>\n",
       "  <tbody>\n",
       "    <tr>\n",
       "      <th>0</th>\n",
       "      <td>0.302133</td>\n",
       "      <td>0.320634</td>\n",
       "      <td>0.298603</td>\n",
       "      <td>0.312031</td>\n",
       "      <td>0.308968</td>\n",
       "      <td>0.338160</td>\n",
       "      <td>0.304595</td>\n",
       "      <td>0.284467</td>\n",
       "      <td>0.281141</td>\n",
       "      <td>0.324204</td>\n",
       "    </tr>\n",
       "    <tr>\n",
       "      <th>1</th>\n",
       "      <td>0.444998</td>\n",
       "      <td>0.379336</td>\n",
       "      <td>0.387576</td>\n",
       "      <td>0.406351</td>\n",
       "      <td>0.424989</td>\n",
       "      <td>0.396621</td>\n",
       "      <td>0.373444</td>\n",
       "      <td>0.389938</td>\n",
       "      <td>0.419983</td>\n",
       "      <td>0.334038</td>\n",
       "    </tr>\n",
       "    <tr>\n",
       "      <th>2</th>\n",
       "      <td>0.362964</td>\n",
       "      <td>0.363079</td>\n",
       "      <td>0.387947</td>\n",
       "      <td>0.399239</td>\n",
       "      <td>0.415088</td>\n",
       "      <td>0.410111</td>\n",
       "      <td>0.412645</td>\n",
       "      <td>0.395375</td>\n",
       "      <td>0.334154</td>\n",
       "      <td>0.357628</td>\n",
       "    </tr>\n",
       "    <tr>\n",
       "      <th>3</th>\n",
       "      <td>0.731142</td>\n",
       "      <td>0.739864</td>\n",
       "      <td>0.742441</td>\n",
       "      <td>0.761255</td>\n",
       "      <td>0.735113</td>\n",
       "      <td>0.746385</td>\n",
       "      <td>0.750472</td>\n",
       "      <td>0.754447</td>\n",
       "      <td>0.735403</td>\n",
       "      <td>0.719562</td>\n",
       "    </tr>\n",
       "    <tr>\n",
       "      <th>4</th>\n",
       "      <td>0.167206</td>\n",
       "      <td>0.170846</td>\n",
       "      <td>0.163419</td>\n",
       "      <td>0.164726</td>\n",
       "      <td>0.165254</td>\n",
       "      <td>0.148719</td>\n",
       "      <td>0.174102</td>\n",
       "      <td>0.154023</td>\n",
       "      <td>0.176723</td>\n",
       "      <td>0.131201</td>\n",
       "    </tr>\n",
       "  </tbody>\n",
       "</table>\n",
       "</div>"
      ],
      "text/plain": [
       "     fold_1    fold_2    fold_3    fold_4    fold_5    fold_6    fold_7  \\\n",
       "0  0.302133  0.320634  0.298603  0.312031  0.308968  0.338160  0.304595   \n",
       "1  0.444998  0.379336  0.387576  0.406351  0.424989  0.396621  0.373444   \n",
       "2  0.362964  0.363079  0.387947  0.399239  0.415088  0.410111  0.412645   \n",
       "3  0.731142  0.739864  0.742441  0.761255  0.735113  0.746385  0.750472   \n",
       "4  0.167206  0.170846  0.163419  0.164726  0.165254  0.148719  0.174102   \n",
       "\n",
       "     fold_8    fold_9   fold_10  \n",
       "0  0.284467  0.281141  0.324204  \n",
       "1  0.389938  0.419983  0.334038  \n",
       "2  0.395375  0.334154  0.357628  \n",
       "3  0.754447  0.735403  0.719562  \n",
       "4  0.154023  0.176723  0.131201  "
      ]
     },
     "execution_count": 71,
     "metadata": {},
     "output_type": "execute_result"
    }
   ],
   "source": [
    "oof_prediction.head()"
   ]
  },
  {
   "cell_type": "code",
   "execution_count": 72,
   "metadata": {},
   "outputs": [
    {
     "data": {
      "text/plain": [
       "(24000, 10)"
      ]
     },
     "execution_count": 72,
     "metadata": {},
     "output_type": "execute_result"
    }
   ],
   "source": [
    "oof_prediction.shape"
   ]
  },
  {
   "cell_type": "code",
   "execution_count": 73,
   "metadata": {},
   "outputs": [],
   "source": [
    "sub = pd.read_csv('SampleSubmission.csv')"
   ]
  },
  {
   "cell_type": "code",
   "execution_count": 74,
   "metadata": {},
   "outputs": [],
   "source": [
    "### We take the mean of all row predictions to generate submission\n",
    "sub['default_status'] = np.mean(test_oofs, axis = 0) "
   ]
  },
  {
   "cell_type": "code",
   "execution_count": 75,
   "metadata": {},
   "outputs": [],
   "source": [
    "sub.to_csv('2nd_sub.csv', index = False)"
   ]
  },
  {
   "cell_type": "code",
   "execution_count": null,
   "metadata": {},
   "outputs": [],
   "source": []
  },
  {
   "cell_type": "markdown",
   "metadata": {},
   "source": [
    "Dropping some columns with more null values"
   ]
  },
  {
   "cell_type": "code",
   "execution_count": null,
   "metadata": {},
   "outputs": [],
   "source": [
    "train.drop(['form_field11', 'form_field31', 'form_field40', 'form_field41', 'form_field45'], axis = 1, inplace = True)\n",
    "test.drop(['form_field11', 'form_field31', 'form_field40', 'form_field41', 'form_field45'], axis = 1, inplace = True)"
   ]
  },
  {
   "cell_type": "code",
   "execution_count": 1,
   "metadata": {},
   "outputs": [
    {
     "ename": "NameError",
     "evalue": "name 'train' is not defined",
     "output_type": "error",
     "traceback": [
      "\u001b[1;31m---------------------------------------------------------------------------\u001b[0m",
      "\u001b[1;31mNameError\u001b[0m                                 Traceback (most recent call last)",
      "\u001b[1;32m<ipython-input-1-87d93390220d>\u001b[0m in \u001b[0;36m<module>\u001b[1;34m\u001b[0m\n\u001b[1;32m----> 1\u001b[1;33m \u001b[0mfeatures\u001b[0m \u001b[1;33m=\u001b[0m \u001b[0mtrain\u001b[0m\u001b[1;33m.\u001b[0m\u001b[0mselect_dtypes\u001b[0m\u001b[1;33m(\u001b[0m\u001b[0mexclude\u001b[0m \u001b[1;33m=\u001b[0m \u001b[0mobject\u001b[0m\u001b[1;33m)\u001b[0m\u001b[1;33m.\u001b[0m\u001b[0mcolumns\u001b[0m\u001b[1;33m.\u001b[0m\u001b[0mdrop\u001b[0m\u001b[1;33m(\u001b[0m\u001b[1;33m[\u001b[0m\u001b[1;34m'default_status'\u001b[0m\u001b[1;33m]\u001b[0m\u001b[1;33m)\u001b[0m\u001b[1;33m\u001b[0m\u001b[1;33m\u001b[0m\u001b[0m\n\u001b[0m",
      "\u001b[1;31mNameError\u001b[0m: name 'train' is not defined"
     ]
    }
   ],
   "source": [
    "features = train.select_dtypes(exclude = object).columns.drop(['default_status'])"
   ]
  },
  {
   "cell_type": "code",
   "execution_count": 2,
   "metadata": {},
   "outputs": [
    {
     "ename": "NameError",
     "evalue": "name 'features' is not defined",
     "output_type": "error",
     "traceback": [
      "\u001b[1;31m---------------------------------------------------------------------------\u001b[0m",
      "\u001b[1;31mNameError\u001b[0m                                 Traceback (most recent call last)",
      "\u001b[1;32m<ipython-input-2-4d3dca2fa34e>\u001b[0m in \u001b[0;36m<module>\u001b[1;34m\u001b[0m\n\u001b[1;32m----> 1\u001b[1;33m \u001b[1;32mfor\u001b[0m \u001b[0mcol\u001b[0m \u001b[1;32min\u001b[0m \u001b[0mfeatures\u001b[0m\u001b[1;33m:\u001b[0m\u001b[1;33m\u001b[0m\u001b[1;33m\u001b[0m\u001b[0m\n\u001b[0m\u001b[0;32m      2\u001b[0m     \u001b[0mtrain\u001b[0m\u001b[1;33m[\u001b[0m\u001b[0mcol\u001b[0m\u001b[1;33m]\u001b[0m\u001b[1;33m.\u001b[0m\u001b[0mfillna\u001b[0m\u001b[1;33m(\u001b[0m\u001b[1;33m-\u001b[0m\u001b[1;36m999\u001b[0m\u001b[1;33m,\u001b[0m \u001b[0minplace\u001b[0m \u001b[1;33m=\u001b[0m \u001b[1;32mTrue\u001b[0m\u001b[1;33m)\u001b[0m\u001b[1;33m\u001b[0m\u001b[1;33m\u001b[0m\u001b[0m\n\u001b[0;32m      3\u001b[0m     \u001b[0mtest\u001b[0m\u001b[1;33m[\u001b[0m\u001b[0mcol\u001b[0m\u001b[1;33m]\u001b[0m\u001b[1;33m.\u001b[0m\u001b[0mfillna\u001b[0m\u001b[1;33m(\u001b[0m\u001b[1;33m-\u001b[0m\u001b[1;36m999\u001b[0m\u001b[1;33m,\u001b[0m \u001b[0minplace\u001b[0m \u001b[1;33m=\u001b[0m \u001b[1;32mTrue\u001b[0m\u001b[1;33m)\u001b[0m\u001b[1;33m\u001b[0m\u001b[1;33m\u001b[0m\u001b[0m\n",
      "\u001b[1;31mNameError\u001b[0m: name 'features' is not defined"
     ]
    }
   ],
   "source": [
    "for col in features:\n",
    "    train[col].fillna(-999, inplace = True)\n",
    "    test[col].fillna(-999, inplace = True)"
   ]
  },
  {
   "cell_type": "code",
   "execution_count": 3,
   "metadata": {},
   "outputs": [
    {
     "ename": "NameError",
     "evalue": "name 'train' is not defined",
     "output_type": "error",
     "traceback": [
      "\u001b[1;31m---------------------------------------------------------------------------\u001b[0m",
      "\u001b[1;31mNameError\u001b[0m                                 Traceback (most recent call last)",
      "\u001b[1;32m<ipython-input-3-adc720dc3c59>\u001b[0m in \u001b[0;36m<module>\u001b[1;34m\u001b[0m\n\u001b[1;32m----> 1\u001b[1;33m \u001b[0mX\u001b[0m \u001b[1;33m=\u001b[0m \u001b[0mtrain\u001b[0m\u001b[1;33m[\u001b[0m\u001b[0mfeatures\u001b[0m\u001b[1;33m]\u001b[0m\u001b[1;33m\u001b[0m\u001b[1;33m\u001b[0m\u001b[0m\n\u001b[0m\u001b[0;32m      2\u001b[0m \u001b[0my\u001b[0m \u001b[1;33m=\u001b[0m \u001b[0mtrain\u001b[0m\u001b[1;33m[\u001b[0m\u001b[1;34m'default_status'\u001b[0m\u001b[1;33m]\u001b[0m\u001b[1;33m\u001b[0m\u001b[1;33m\u001b[0m\u001b[0m\n",
      "\u001b[1;31mNameError\u001b[0m: name 'train' is not defined"
     ]
    }
   ],
   "source": [
    "X = train[features]\n",
    "y = train['default_status']"
   ]
  },
  {
   "cell_type": "code",
   "execution_count": null,
   "metadata": {},
   "outputs": [],
   "source": [
    "from sklearn.model_selection import StratifiedKFold\n",
    "\n",
    "def metric(y, pred):\n",
    "    return roc_auc_score(y, pred, labels=[0, 1])\n",
    "\n",
    "# Specify number of folds\n",
    "n_skf = 10\n",
    "kf = StratifiedKFold(n_skf)\n",
    "\n",
    "\n",
    "seed = 2020\n",
    "\n",
    "## Manually tweak the hyperparameter, learning rate and n_estimators especially\n",
    "params = {\n",
    "    'n_estimators': 4000,\n",
    "    'learning_rate': 0.01,\n",
    "    'objective': 'CrossEntropy',\n",
    "      'eval_metric':'AUC',\n",
    "    'random_seed': seed,\n",
    "    'early_stopping_rounds': 200,\n",
    "    'use_best_model': True,\n",
    "    'max_depth' : 8\n",
    "}\n",
    "\n",
    "for i, (tr_idx, vr_idx) in enumerate(kf.split(X,y)):\n",
    "    print(tr_idx)\n",
    "\n",
    "\n",
    "\n",
    "score_list = []\n",
    "score = 0\n",
    "test_oofs = []\n",
    "\n",
    "for i, (tr_idx, vr_idx) in enumerate(kf.split(X, y)):\n",
    "    \n",
    "    xtrain, ytrain = X.loc[tr_idx, features], y.loc[tr_idx]\n",
    "    xval, yval = X.loc[vr_idx, features], y.loc[vr_idx]\n",
    "\n",
    "    model = CatBoostClassifier(**params)\n",
    "    model.fit(xtrain, ytrain, eval_set=[(xval,yval)], verbose=100)\n",
    "    \n",
    "    p = model.predict_proba(xval)[:, 1]\n",
    "    sc = metric(yval, p)\n",
    "    score_list.append(sc)\n",
    "    score += sc/n_skf\n",
    "    \n",
    "    pred = model.predict_proba(test[features])[:, 1]\n",
    "    test_oofs.append(pred)\n",
    "\n",
    "    print('Fold {} : {}'.format(i, sc))\n",
    "\n",
    "print()\n",
    "print()\n",
    "print('Avg log : ', score)\n",
    "\n",
    "f\"{n_skf} fold CV, score: {score}\" #Increase in local cv score should probably lead to increase in Leaderboard score"
   ]
  }
 ],
 "metadata": {
  "kernelspec": {
   "display_name": "Python 3",
   "language": "python",
   "name": "python3"
  },
  "language_info": {
   "codemirror_mode": {
    "name": "ipython",
    "version": 3
   },
   "file_extension": ".py",
   "mimetype": "text/x-python",
   "name": "python",
   "nbconvert_exporter": "python",
   "pygments_lexer": "ipython3",
   "version": "3.7.6"
  }
 },
 "nbformat": 4,
 "nbformat_minor": 4
}
